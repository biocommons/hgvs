{
 "cells": [
  {
   "cell_type": "markdown",
   "metadata": {},
   "source": [
    "# hgvs Documention: Examples\n",
    "\n",
    "This notebook is being drafted to run and review the code presented in the hgvs documentation that is in the \"Creating a SequenceVariant from scratch\" section (https://hgvs.readthedocs.io/en/stable/examples/creating-a-variant.html#overview).  \n",
    "\n",
    "Errors will be addressed through \"troubleshooting: (issue)\" sections.  These sections will not include any documentation.  Rather cite \"help(*function*)\" which can be found at the very end of the document."
   ]
  },
  {
   "cell_type": "markdown",
   "metadata": {},
   "source": [
    "## Step 1:  Make an Interval to defined a position of the edit"
   ]
  },
  {
   "cell_type": "code",
   "execution_count": 9,
   "metadata": {},
   "outputs": [
    {
     "ename": "ImportError",
     "evalue": "No module named variant",
     "output_type": "error",
     "traceback": [
      "\u001b[0;31m---------------------------------------------------------------------------\u001b[0m",
      "\u001b[0;31mImportError\u001b[0m                               Traceback (most recent call last)",
      "\u001b[0;32m<ipython-input-9-498885efce0a>\u001b[0m in \u001b[0;36m<module>\u001b[0;34m()\u001b[0m\n\u001b[1;32m      2\u001b[0m \u001b[0;32mimport\u001b[0m \u001b[0mhgvs\u001b[0m\u001b[0;34m.\u001b[0m\u001b[0mposedit\u001b[0m\u001b[0;34m\u001b[0m\u001b[0m\n\u001b[1;32m      3\u001b[0m \u001b[0;32mimport\u001b[0m \u001b[0mhgvs\u001b[0m\u001b[0;34m.\u001b[0m\u001b[0medit\u001b[0m\u001b[0;34m\u001b[0m\u001b[0m\n\u001b[0;32m----> 4\u001b[0;31m \u001b[0;32mimport\u001b[0m \u001b[0mhgvs\u001b[0m\u001b[0;34m.\u001b[0m\u001b[0mvariant\u001b[0m\u001b[0;34m\u001b[0m\u001b[0m\n\u001b[0m\u001b[1;32m      5\u001b[0m \u001b[0;32mimport\u001b[0m \u001b[0mcopy\u001b[0m\u001b[0;34m\u001b[0m\u001b[0m\n",
      "\u001b[0;31mImportError\u001b[0m: No module named variant"
     ]
    }
   ],
   "source": [
    "import hgvs.location\n",
    "import hgvs.posedit\n",
    "import hgvs.edit\n",
    "import hgvs.variant\n",
    "import copy"
   ]
  },
  {
   "cell_type": "markdown",
   "metadata": {},
   "source": [
    "## Troubleshooting:  \"ImportError: No module named variant\"\n",
    "\n",
    "### Resolution: \n",
    "\n",
    "\n",
    "### Post-resolution Issues:\n"
   ]
  },
  {
   "cell_type": "code",
   "execution_count": 10,
   "metadata": {},
   "outputs": [
    {
     "data": {
      "text/plain": [
       "['__builtins__',\n",
       " '__doc__',\n",
       " '__file__',\n",
       " '__name__',\n",
       " '__package__',\n",
       " '__path__',\n",
       " '__version__',\n",
       " '_is_released_version',\n",
       " 'absolute_import',\n",
       " 'config',\n",
       " 'division',\n",
       " 'edit',\n",
       " 'enums',\n",
       " 'exceptions',\n",
       " 'global_config',\n",
       " 'location',\n",
       " 'logger',\n",
       " 'logging',\n",
       " 'pkg_resources',\n",
       " 'posedit',\n",
       " 'print_function',\n",
       " 're',\n",
       " 'unicode_literals',\n",
       " 'utils',\n",
       " 'warnings']"
      ]
     },
     "execution_count": 10,
     "metadata": {},
     "output_type": "execute_result"
    }
   ],
   "source": [
    "#check dir() for hgvs\n",
    "dir(hgvs)"
   ]
  },
  {
   "cell_type": "code",
   "execution_count": 2,
   "metadata": {},
   "outputs": [
    {
     "ename": "AttributeError",
     "evalue": "'module' object has no attribute 'CDS_START'",
     "output_type": "error",
     "traceback": [
      "\u001b[0;31m---------------------------------------------------------------------------\u001b[0m",
      "\u001b[0;31mAttributeError\u001b[0m                            Traceback (most recent call last)",
      "\u001b[0;32m<ipython-input-2-7745a6391e8b>\u001b[0m in \u001b[0;36m<module>\u001b[0;34m()\u001b[0m\n\u001b[0;32m----> 1\u001b[0;31m \u001b[0mstart\u001b[0m \u001b[0;34m=\u001b[0m \u001b[0mhgvs\u001b[0m\u001b[0;34m.\u001b[0m\u001b[0mlocation\u001b[0m\u001b[0;34m.\u001b[0m\u001b[0mBaseOffsetPosition\u001b[0m\u001b[0;34m(\u001b[0m\u001b[0mbase\u001b[0m\u001b[0;34m=\u001b[0m\u001b[0;36m200\u001b[0m\u001b[0;34m,\u001b[0m\u001b[0moffset\u001b[0m\u001b[0;34m=\u001b[0m\u001b[0;34m-\u001b[0m\u001b[0;36m6\u001b[0m\u001b[0;34m,\u001b[0m\u001b[0mdatum\u001b[0m\u001b[0;34m=\u001b[0m\u001b[0mhgvs\u001b[0m\u001b[0;34m.\u001b[0m\u001b[0mlocation\u001b[0m\u001b[0;34m.\u001b[0m\u001b[0mCDS_START\u001b[0m\u001b[0;34m)\u001b[0m\u001b[0;34m\u001b[0m\u001b[0m\n\u001b[0m\u001b[1;32m      2\u001b[0m \u001b[0mstart\u001b[0m\u001b[0;34m,\u001b[0m \u001b[0mstr\u001b[0m\u001b[0;34m(\u001b[0m\u001b[0mstart\u001b[0m\u001b[0;34m)\u001b[0m\u001b[0;34m\u001b[0m\u001b[0m\n",
      "\u001b[0;31mAttributeError\u001b[0m: 'module' object has no attribute 'CDS_START'"
     ]
    }
   ],
   "source": [
    "start = hgvs.location.BaseOffsetPosition(base=200,offset=-6,datum=hgvs.location.CDS_START)\n",
    "start, str(start)"
   ]
  },
  {
   "cell_type": "markdown",
   "metadata": {},
   "source": [
    "## Troubleshooting:  \"AttributeError: 'module' object has no attribute 'CDS_START'\"\n",
    "\n",
    "### Resolution: \n",
    "\n",
    "\n",
    "### Post-resolution Issues:\n"
   ]
  },
  {
   "cell_type": "code",
   "execution_count": 7,
   "metadata": {},
   "outputs": [
    {
     "data": {
      "text/plain": [
       "(['AAPosition',\n",
       "  'BaseOffsetInterval',\n",
       "  'BaseOffsetPosition',\n",
       "  'Datum',\n",
       "  'HGVSInvalidIntervalError',\n",
       "  'HGVSUnsupportedOperationError',\n",
       "  'Interval',\n",
       "  'SimplePosition',\n",
       "  'ValidationLevel',\n",
       "  '__builtins__',\n",
       "  '__doc__',\n",
       "  '__file__',\n",
       "  '__name__',\n",
       "  '__package__',\n",
       "  '__warningregistry__',\n",
       "  'aa1_to_aa3',\n",
       "  'absolute_import',\n",
       "  'attr',\n",
       "  'division',\n",
       "  'hgvs',\n",
       "  'print_function',\n",
       "  'total_ordering',\n",
       "  'unicode_literals'],\n",
       " ['HGVSUnsupportedOperationError',\n",
       "  'PosEdit',\n",
       "  'ValidationLevel',\n",
       "  '__builtins__',\n",
       "  '__doc__',\n",
       "  '__file__',\n",
       "  '__name__',\n",
       "  '__package__',\n",
       "  'absolute_import',\n",
       "  'attr',\n",
       "  'division',\n",
       "  'print_function',\n",
       "  'unicode_literals'])"
      ]
     },
     "execution_count": 7,
     "metadata": {},
     "output_type": "execute_result"
    }
   ],
   "source": [
    "# Check dir() on hgvs.location and hgvs.posedit\n",
    "dir(hgvs.location), dir(hgvs.posedit)"
   ]
  },
  {
   "cell_type": "code",
   "execution_count": null,
   "metadata": {},
   "outputs": [],
   "source": []
  }
 ],
 "metadata": {
  "kernelspec": {
   "display_name": "Environment (conda_hgvs)",
   "language": "python",
   "name": "conda_hgvs"
  },
  "language_info": {
   "codemirror_mode": {
    "name": "ipython",
    "version": 2
   },
   "file_extension": ".py",
   "mimetype": "text/x-python",
   "name": "python",
   "nbconvert_exporter": "python",
   "pygments_lexer": "ipython2",
   "version": "2.7.15"
  }
 },
 "nbformat": 4,
 "nbformat_minor": 2
}
