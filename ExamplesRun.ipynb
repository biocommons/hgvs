{
 "cells": [
  {
   "cell_type": "markdown",
   "metadata": {},
   "source": [
    "# hgvs Documention: Examples\n",
    "\n",
    "This notebook is being drafted to run and review the code presented in the hgvs documentation that is in the \"Creating a SequenceVariant from scratch\" section (https://hgvs.readthedocs.io/en/stable/examples/creating-a-variant.html#overview).  \n",
    "\n",
    "Errors will be addressed through \"troubleshooting: (issue)\" sections.  These sections will not include any documentation.  Rather cite \"help(*function*)\" which can be found at the very end of the document."
   ]
  },
  {
   "cell_type": "markdown",
   "metadata": {},
   "source": [
    "## Step 1: Import necessary modules"
   ]
  },
  {
   "cell_type": "code",
   "execution_count": 9,
   "metadata": {},
   "outputs": [
    {
     "ename": "ImportError",
     "evalue": "No module named variant",
     "output_type": "error",
     "traceback": [
      "\u001b[0;31m---------------------------------------------------------------------------\u001b[0m",
      "\u001b[0;31mImportError\u001b[0m                               Traceback (most recent call last)",
      "\u001b[0;32m<ipython-input-9-498885efce0a>\u001b[0m in \u001b[0;36m<module>\u001b[0;34m()\u001b[0m\n\u001b[1;32m      2\u001b[0m \u001b[0;32mimport\u001b[0m \u001b[0mhgvs\u001b[0m\u001b[0;34m.\u001b[0m\u001b[0mposedit\u001b[0m\u001b[0;34m\u001b[0m\u001b[0m\n\u001b[1;32m      3\u001b[0m \u001b[0;32mimport\u001b[0m \u001b[0mhgvs\u001b[0m\u001b[0;34m.\u001b[0m\u001b[0medit\u001b[0m\u001b[0;34m\u001b[0m\u001b[0m\n\u001b[0;32m----> 4\u001b[0;31m \u001b[0;32mimport\u001b[0m \u001b[0mhgvs\u001b[0m\u001b[0;34m.\u001b[0m\u001b[0mvariant\u001b[0m\u001b[0;34m\u001b[0m\u001b[0m\n\u001b[0m\u001b[1;32m      5\u001b[0m \u001b[0;32mimport\u001b[0m \u001b[0mcopy\u001b[0m\u001b[0;34m\u001b[0m\u001b[0m\n",
      "\u001b[0;31mImportError\u001b[0m: No module named variant"
     ]
    }
   ],
   "source": [
    "import hgvs.location # hgvs.location.BaseOffsetPosition\n",
    "import hgvs.posedit  # hgvs.posedit.PosEdit\n",
    "import hgvs.edit     # hgvs.edit.NARefAlt\n",
    "import hgvs.variant\n",
    "import copy"
   ]
  },
  {
   "cell_type": "markdown",
   "metadata": {},
   "source": [
    "## Troubleshooting:  \"ImportError: No module named variant\"\n",
    "\n",
    "### Resolution: \n",
    "\n",
    "\n",
    "### Post-resolution Issues:\n"
   ]
  },
  {
   "cell_type": "code",
   "execution_count": 11,
   "metadata": {},
   "outputs": [
    {
     "name": "stdout",
     "output_type": "stream",
     "text": [
      "Help on package hgvs:\n",
      "\n",
      "NAME\n",
      "    hgvs\n",
      "\n",
      "FILE\n",
      "    /home/aaron/biocommons/hgvs/__init__.py\n",
      "\n",
      "DESCRIPTION\n",
      "    hgvs is a package to parse, format, and manipulate biological sequence\n",
      "    variants.  See https://github.com/biocommons/hgvs/ for details.\n",
      "    \n",
      "    Example use:\n",
      "    \n",
      "    >>> import hgvs.dataproviders.uta\n",
      "    >>> import hgvs.parser\n",
      "    >>> import hgvs.variantmapper\n",
      "    \n",
      "    # start with these variants as strings\n",
      "    >>> hgvs_g, hgvs_c = \"NC_000007.13:g.36561662C>T\", \"NM_001637.3:c.1582G>A\"\n",
      "    \n",
      "    # parse the genomic variant into a Python structure\n",
      "    >>> hp = hgvs.parser.Parser()\n",
      "    >>> var_g = hp.parse_hgvs_variant(hgvs_g)\n",
      "    >>> var_g\n",
      "    SequenceVariant(ac=NC_000007.13, type=g, posedit=36561662C>T)\n",
      "    \n",
      "    # SequenceVariants are composed of structured objects, e.g.,\n",
      "    >>> var_g.posedit.pos.start\n",
      "    SimplePosition(base=36561662, uncertain=False)\n",
      "    \n",
      "    # format by stringification \n",
      "    >>> str(var_g)\n",
      "    'NC_000007.13:g.36561662C>T'\n",
      "    \n",
      "    # initialize the mapper for GRCh37 with splign-based alignments\n",
      "    >>> hdp = hgvs.dataproviders.uta.connect()\n",
      "    >>> am = hgvs.assemblymapper.AssemblyMapper(hdp,\n",
      "    ...          assembly_name=\"GRCh37\", alt_aln_method=\"splign\",\n",
      "    ...          replace_reference=True)\n",
      "    \n",
      "    # identify transcripts that overlap this genomic variant\n",
      "    >>> transcripts = am.relevant_transcripts(var_g)\n",
      "    >>> sorted(transcripts)\n",
      "    ['NM_001177506.1', 'NM_001177507.1', 'NM_001637.3']\n",
      "    \n",
      "    # map genomic variant to one of these transcripts\n",
      "    >>> var_c = am.g_to_c(var_g, \"NM_001637.3\")\n",
      "    >>> var_c\n",
      "    SequenceVariant(ac=NM_001637.3, type=c, posedit=1582G>A)\n",
      "    >>> str(var_c)\n",
      "    'NM_001637.3:c.1582G>A'\n",
      "    \n",
      "    # CDS coordinates use BaseOffsetPosition to support intronic offsets\n",
      "    >>> var_c.posedit.pos.start\n",
      "    BaseOffsetPosition(base=1582, offset=0, datum=Datum.CDS_START, uncertain=False)\n",
      "\n",
      "PACKAGE CONTENTS\n",
      "    alignmentmapper\n",
      "    assemblymapper\n",
      "    config\n",
      "    dataproviders (package)\n",
      "    decorators (package)\n",
      "    easy\n",
      "    edit\n",
      "    enums\n",
      "    exceptions\n",
      "    hgvsposition\n",
      "    intervalmapper\n",
      "    location\n",
      "    normalizer\n",
      "    parser\n",
      "    posedit\n",
      "    projector\n",
      "    sequencevariant\n",
      "    shell\n",
      "    transcriptmapper\n",
      "    utils (package)\n",
      "    validator\n",
      "    variantmapper\n",
      "\n",
      "DATA\n",
      "    __version__ = '1.1.4.dev77+g8f54289'\n",
      "    absolute_import = _Feature((2, 5, 0, 'alpha', 1), (3, 0, 0, 'alpha', 0...\n",
      "    division = _Feature((2, 2, 0, 'alpha', 2), (3, 0, 0, 'alpha', 0), 8192...\n",
      "    global_config = <hgvs.config.Config object>\n",
      "    logger = <logging.Logger object>\n",
      "    print_function = _Feature((2, 6, 0, 'alpha', 2), (3, 0, 0, 'alpha', 0)...\n",
      "    unicode_literals = _Feature((2, 6, 0, 'alpha', 2), (3, 0, 0, 'alpha', ...\n",
      "\n",
      "VERSION\n",
      "    1.1.4.dev77+g8f54289\n",
      "\n",
      "\n"
     ]
    },
    {
     "data": {
      "text/plain": [
       "(['__builtins__',\n",
       "  '__doc__',\n",
       "  '__file__',\n",
       "  '__name__',\n",
       "  '__package__',\n",
       "  '__path__',\n",
       "  '__version__',\n",
       "  '_is_released_version',\n",
       "  'absolute_import',\n",
       "  'config',\n",
       "  'division',\n",
       "  'edit',\n",
       "  'enums',\n",
       "  'exceptions',\n",
       "  'global_config',\n",
       "  'location',\n",
       "  'logger',\n",
       "  'logging',\n",
       "  'pkg_resources',\n",
       "  'posedit',\n",
       "  'print_function',\n",
       "  're',\n",
       "  'unicode_literals',\n",
       "  'utils',\n",
       "  'warnings'],\n",
       " None)"
      ]
     },
     "execution_count": 11,
     "metadata": {},
     "output_type": "execute_result"
    }
   ],
   "source": [
    "#check dir(hgvs) and help(hgvs), found no 'variant' in list of classes\n",
    "dir(hgvs), help(hgvs)"
   ]
  },
  {
   "cell_type": "code",
   "execution_count": 18,
   "metadata": {},
   "outputs": [],
   "source": [
    "# follow example in Description\n",
    "import hgvs.dataproviders.uta\n",
    "import hgvs.parser\n",
    "import hgvs.variantmapper"
   ]
  },
  {
   "cell_type": "code",
   "execution_count": 16,
   "metadata": {},
   "outputs": [],
   "source": [
    "# choosing my own variant, https://www.ncbi.nlm.nih.gov/snp/rs6025\n",
    "rs6025 = 'NC_000001.10:g.169519049T>C'"
   ]
  },
  {
   "cell_type": "code",
   "execution_count": 20,
   "metadata": {},
   "outputs": [
    {
     "data": {
      "text/plain": [
       "SequenceVariant(ac=NC_000001.10, type=g, posedit=169519049T>C)"
      ]
     },
     "execution_count": 20,
     "metadata": {},
     "output_type": "execute_result"
    }
   ],
   "source": [
    "# parse the variant\n",
    "hp = hgvs.parser.Parser()\n",
    "rs6025P = hp.parse_hgvs_variant(rs6025)\n",
    "rs6025P"
   ]
  },
  {
   "cell_type": "code",
   "execution_count": 30,
   "metadata": {},
   "outputs": [
    {
     "data": {
      "text/plain": [
       "(Interval(start=169519049, end=169519049, uncertain=False),\n",
       " NARefAlt(ref='T', alt='C', uncertain=False),\n",
       " 'NC_000001.10',\n",
       " 'g')"
      ]
     },
     "execution_count": 30,
     "metadata": {},
     "output_type": "execute_result"
    }
   ],
   "source": [
    "# SequenceVariant can be pulled apart\n",
    "rs6025P.posedit.pos, rs6025P.posedit.edit, rs6025P.ac, rs6025P.type"
   ]
  },
  {
   "cell_type": "code",
   "execution_count": 32,
   "metadata": {},
   "outputs": [],
   "source": [
    "# create dataprovider variable -- what does this do?\n",
    "hdp = hgvs.dataproviders.uta.connect()"
   ]
  },
  {
   "cell_type": "code",
   "execution_count": 33,
   "metadata": {},
   "outputs": [
    {
     "ename": "AttributeError",
     "evalue": "'module' object has no attribute 'assemblymapper'",
     "output_type": "error",
     "traceback": [
      "\u001b[0;31m---------------------------------------------------------------------------\u001b[0m",
      "\u001b[0;31mAttributeError\u001b[0m                            Traceback (most recent call last)",
      "\u001b[0;32m<ipython-input-33-99d0ab1d1e9c>\u001b[0m in \u001b[0;36m<module>\u001b[0;34m()\u001b[0m\n\u001b[1;32m      1\u001b[0m \u001b[0;31m# create assemblymapper variable\u001b[0m\u001b[0;34m\u001b[0m\u001b[0;34m\u001b[0m\u001b[0m\n\u001b[0;32m----> 2\u001b[0;31m \u001b[0mam\u001b[0m \u001b[0;34m=\u001b[0m \u001b[0mhgvs\u001b[0m\u001b[0;34m.\u001b[0m\u001b[0massemblymapper\u001b[0m\u001b[0;34m\u001b[0m\u001b[0m\n\u001b[0m",
      "\u001b[0;31mAttributeError\u001b[0m: 'module' object has no attribute 'assemblymapper'"
     ]
    }
   ],
   "source": [
    "# create assemblymapper variable\n",
    "am = hgvs.assemblymapper"
   ]
  },
  {
   "cell_type": "markdown",
   "metadata": {},
   "source": [
    "## Troubleshooting:  \"AttributeError: 'module' object has no attribute 'assemblymapper'\"\n",
    "\n",
    "### Resolution: \n",
    "\n",
    "\n",
    "### Post-resolution Issues:\n"
   ]
  },
  {
   "cell_type": "code",
   "execution_count": 34,
   "metadata": {},
   "outputs": [],
   "source": [
    "# import module\n",
    "import hgvs.assemblymapper"
   ]
  },
  {
   "cell_type": "code",
   "execution_count": 37,
   "metadata": {},
   "outputs": [
    {
     "data": {
      "text/plain": [
       "['NM_000130.4']"
      ]
     },
     "execution_count": 37,
     "metadata": {},
     "output_type": "execute_result"
    }
   ],
   "source": [
    "# create assemblymapper variable, determine transcripts effected\n",
    "am = hgvs.assemblymapper.AssemblyMapper(hdp, alt_aln_method='splign', assembly_name='GRCh37', replace_reference=True)\n",
    "transcripts = am.relevant_transcripts(rs6025P)\n",
    "sorted(transcripts)"
   ]
  },
  {
   "cell_type": "code",
   "execution_count": 38,
   "metadata": {},
   "outputs": [
    {
     "data": {
      "text/plain": [
       "SequenceVariant(ac=NM_000130.4, type=c, posedit=1601=)"
      ]
     },
     "execution_count": 38,
     "metadata": {},
     "output_type": "execute_result"
    }
   ],
   "source": [
    "# map variant to coding sequence\n",
    "rs6025c = am.g_to_c(rs6025P,transcripts[0])\n",
    "rs6025c"
   ]
  },
  {
   "cell_type": "code",
   "execution_count": 44,
   "metadata": {},
   "outputs": [
    {
     "data": {
      "text/plain": [
       "('NM_000130.4',\n",
       " NARefAlt(ref=u'G', alt=u'G', uncertain=False),\n",
       " BaseOffsetPosition(base=1601, offset=0, datum=Datum.CDS_START, uncertain=False),\n",
       " u'c')"
      ]
     },
     "execution_count": 44,
     "metadata": {},
     "output_type": "execute_result"
    }
   ],
   "source": [
    "# pull apart the SequenceVariant\n",
    "rs6025c.ac, rs6025c.posedit.edit, rs6025c.posedit.pos.start, rs6025c.type"
   ]
  },
  {
   "cell_type": "markdown",
   "metadata": {},
   "source": [
    "## Step 2: Make an Interval to define a position of the edit"
   ]
  },
  {
   "cell_type": "code",
   "execution_count": 46,
   "metadata": {},
   "outputs": [
    {
     "ename": "AttributeError",
     "evalue": "'module' object has no attribute 'CDS_START'",
     "output_type": "error",
     "traceback": [
      "\u001b[0;31m---------------------------------------------------------------------------\u001b[0m",
      "\u001b[0;31mAttributeError\u001b[0m                            Traceback (most recent call last)",
      "\u001b[0;32m<ipython-input-46-7745a6391e8b>\u001b[0m in \u001b[0;36m<module>\u001b[0;34m()\u001b[0m\n\u001b[0;32m----> 1\u001b[0;31m \u001b[0mstart\u001b[0m \u001b[0;34m=\u001b[0m \u001b[0mhgvs\u001b[0m\u001b[0;34m.\u001b[0m\u001b[0mlocation\u001b[0m\u001b[0;34m.\u001b[0m\u001b[0mBaseOffsetPosition\u001b[0m\u001b[0;34m(\u001b[0m\u001b[0mbase\u001b[0m\u001b[0;34m=\u001b[0m\u001b[0;36m200\u001b[0m\u001b[0;34m,\u001b[0m\u001b[0moffset\u001b[0m\u001b[0;34m=\u001b[0m\u001b[0;34m-\u001b[0m\u001b[0;36m6\u001b[0m\u001b[0;34m,\u001b[0m\u001b[0mdatum\u001b[0m\u001b[0;34m=\u001b[0m\u001b[0mhgvs\u001b[0m\u001b[0;34m.\u001b[0m\u001b[0mlocation\u001b[0m\u001b[0;34m.\u001b[0m\u001b[0mCDS_START\u001b[0m\u001b[0;34m)\u001b[0m\u001b[0;34m\u001b[0m\u001b[0m\n\u001b[0m\u001b[1;32m      2\u001b[0m \u001b[0mstart\u001b[0m\u001b[0;34m,\u001b[0m \u001b[0mstr\u001b[0m\u001b[0;34m(\u001b[0m\u001b[0mstart\u001b[0m\u001b[0;34m)\u001b[0m\u001b[0;34m\u001b[0m\u001b[0m\n",
      "\u001b[0;31mAttributeError\u001b[0m: 'module' object has no attribute 'CDS_START'"
     ]
    }
   ],
   "source": [
    "start = hgvs.location.BaseOffsetPosition(base=200,offset=-6,datum=hgvs.location.CDS_START)\n",
    "start, str(start)"
   ]
  },
  {
   "cell_type": "markdown",
   "metadata": {},
   "source": [
    "## Troubleshooting:  \"AttributeError: 'module' object has no attribute 'CDS_START'\"\n",
    "\n",
    "### Resolution: \n",
    "\n",
    "\n",
    "### Post-resolution Issues:\n"
   ]
  },
  {
   "cell_type": "code",
   "execution_count": 48,
   "metadata": {},
   "outputs": [
    {
     "data": {
      "text/plain": [
       "['AAPosition',\n",
       " 'BaseOffsetInterval',\n",
       " 'BaseOffsetPosition',\n",
       " 'Datum',\n",
       " 'HGVSInvalidIntervalError',\n",
       " 'HGVSUnsupportedOperationError',\n",
       " 'Interval',\n",
       " 'SimplePosition',\n",
       " 'ValidationLevel',\n",
       " '__builtins__',\n",
       " '__doc__',\n",
       " '__file__',\n",
       " '__name__',\n",
       " '__package__',\n",
       " '__warningregistry__',\n",
       " 'aa1_to_aa3',\n",
       " 'absolute_import',\n",
       " 'attr',\n",
       " 'division',\n",
       " 'hgvs',\n",
       " 'print_function',\n",
       " 'total_ordering',\n",
       " 'unicode_literals']"
      ]
     },
     "execution_count": 48,
     "metadata": {},
     "output_type": "execute_result"
    }
   ],
   "source": [
    "# Check dir() on hgvs.location and hgvs.posedit\n",
    "dir(hgvs.location)"
   ]
  },
  {
   "cell_type": "code",
   "execution_count": 49,
   "metadata": {},
   "outputs": [
    {
     "name": "stdout",
     "output_type": "stream",
     "text": [
      "Help on class Datum in module hgvs.enums:\n",
      "\n",
      "Datum = <enum 'Datum'>\n"
     ]
    }
   ],
   "source": [
    "# read doc on 'Datum'\n",
    "help(hgvs.location.Datum)"
   ]
  },
  {
   "cell_type": "code",
   "execution_count": 51,
   "metadata": {},
   "outputs": [
    {
     "data": {
      "text/plain": [
       "['CDS_END',\n",
       " 'CDS_START',\n",
       " 'SEQ_START',\n",
       " '__class__',\n",
       " '__doc__',\n",
       " '__members__',\n",
       " '__module__']"
      ]
     },
     "execution_count": 51,
     "metadata": {},
     "output_type": "execute_result"
    }
   ],
   "source": [
    "# print list of classes \n",
    "dir(hgvs.location.Datum)"
   ]
  },
  {
   "cell_type": "markdown",
   "metadata": {},
   "source": [
    "## Step 2 cont."
   ]
  },
  {
   "cell_type": "code",
   "execution_count": 52,
   "metadata": {},
   "outputs": [
    {
     "data": {
      "text/plain": [
       "(BaseOffsetPosition(base=200, offset=-6, datum=Datum.CDS_START, uncertain=False),\n",
       " '200-6')"
      ]
     },
     "execution_count": 52,
     "metadata": {},
     "output_type": "execute_result"
    }
   ],
   "source": [
    "start = hgvs.location.BaseOffsetPosition(base=200,offset=-6,datum=hgvs.location.Datum.CDS_START)\n",
    "start, str(start)"
   ]
  },
  {
   "cell_type": "code",
   "execution_count": 54,
   "metadata": {},
   "outputs": [
    {
     "data": {
      "text/plain": [
       "(BaseOffsetPosition(base=22, offset=0, datum=Datum.CDS_END, uncertain=False),\n",
       " '*22')"
      ]
     },
     "execution_count": 54,
     "metadata": {},
     "output_type": "execute_result"
    }
   ],
   "source": [
    "end = hgvs.location.BaseOffsetPosition(base=22,datum=hgvs.location.Datum.CDS_END)\n",
    "end, str(end)"
   ]
  },
  {
   "cell_type": "code",
   "execution_count": 55,
   "metadata": {},
   "outputs": [
    {
     "data": {
      "text/plain": [
       "(Interval(start=200-6, end=*22, uncertain=False), '200-6_*22')"
      ]
     },
     "execution_count": 55,
     "metadata": {},
     "output_type": "execute_result"
    }
   ],
   "source": [
    "iv = hgvs.location.Interval(start=start,end=end)\n",
    "iv, str(iv)"
   ]
  },
  {
   "cell_type": "markdown",
   "metadata": {},
   "source": [
    "## Step 3:  Make an edit object"
   ]
  },
  {
   "cell_type": "code",
   "execution_count": 56,
   "metadata": {},
   "outputs": [
    {
     "data": {
      "text/plain": [
       "(NARefAlt(ref='A', alt='T', uncertain=False), 'A>T')"
      ]
     },
     "execution_count": 56,
     "metadata": {},
     "output_type": "execute_result"
    }
   ],
   "source": [
    "edit = hgvs.edit.NARefAlt(ref='A',alt='T')\n",
    "edit, str(edit)"
   ]
  },
  {
   "cell_type": "code",
   "execution_count": 57,
   "metadata": {},
   "outputs": [
    {
     "data": {
      "text/plain": [
       "(PosEdit(pos=200-6_*22, edit=A>T, uncertain=False), '200-6_*22A>T')"
      ]
     },
     "execution_count": 57,
     "metadata": {},
     "output_type": "execute_result"
    }
   ],
   "source": [
    "posedit = hgvs.posedit.PosEdit(pos=iv,edit=edit)\n",
    "posedit, str(posedit)"
   ]
  },
  {
   "cell_type": "code",
   "execution_count": 58,
   "metadata": {},
   "outputs": [
    {
     "data": {
      "text/plain": [
       "(SequenceVariant(ac=NC_000001.10, type=g, posedit=200-6_*22A>T),\n",
       " 'NC_000001.10:g.200-6_*22A>T')"
      ]
     },
     "execution_count": 58,
     "metadata": {},
     "output_type": "execute_result"
    }
   ],
   "source": [
    "var = hgvs.sequencevariant.SequenceVariant(ac='NC_000001.10', type='g', posedit=posedit)\n",
    "var, str(var)"
   ]
  },
  {
   "cell_type": "code",
   "execution_count": null,
   "metadata": {},
   "outputs": [],
   "source": []
  },
  {
   "cell_type": "code",
   "execution_count": null,
   "metadata": {},
   "outputs": [],
   "source": []
  }
 ],
 "metadata": {
  "kernelspec": {
   "display_name": "Environment (conda_hgvs)",
   "language": "python",
   "name": "conda_hgvs"
  },
  "language_info": {
   "codemirror_mode": {
    "name": "ipython",
    "version": 2
   },
   "file_extension": ".py",
   "mimetype": "text/x-python",
   "name": "python",
   "nbconvert_exporter": "python",
   "pygments_lexer": "ipython2",
   "version": "2.7.15"
  }
 },
 "nbformat": 4,
 "nbformat_minor": 2
}
