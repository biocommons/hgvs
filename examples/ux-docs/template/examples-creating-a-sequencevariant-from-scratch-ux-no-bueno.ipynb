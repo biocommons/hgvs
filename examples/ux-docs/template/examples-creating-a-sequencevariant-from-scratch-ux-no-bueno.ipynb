{
 "cells": [
  {
   "cell_type": "markdown",
   "metadata": {},
   "source": [
    "# hgvs Documention: Examples\n",
    "\n",
    "This notebook is being drafted to run and review the code presented in the hgvs documentation that is in the \"Creating a SequenceVariant from scratch\" section (https://hgvs.readthedocs.io/en/stable/examples/creating-a-variant.html#overview).  \n",
    "\n",
    "## User Troubleshooting\n",
    "Users proposed state.  User stories and user troubleshooting methods are included.  \n",
    "\n",
    "### User Credentials\n",
    "This section is for people to provide their background\n",
    "\n",
    "    Occupation:             Molecular Biologist\n",
    "\n",
    "    Experience in Biology:  8 years\n",
    "\n",
    "    Experience in Python:   ~1 year"
   ]
  },
  {
   "cell_type": "markdown",
   "metadata": {},
   "source": [
    "## Step 1: Import hgvs modules\n",
    "\n",
    "### User Story:\n",
    "As a novice python developer I review the entire page for code snipets.  I collect all of the modules that need to be imported and run them in the first cell."
   ]
  },
  {
   "cell_type": "code",
   "execution_count": 2,
   "metadata": {},
   "outputs": [
    {
     "ename": "ImportError",
     "evalue": "No module named variant",
     "output_type": "error",
     "traceback": [
      "\u001b[0;31m---------------------------------------------------------------------------\u001b[0m",
      "\u001b[0;31mImportError\u001b[0m                               Traceback (most recent call last)",
      "\u001b[0;32m<ipython-input-2-77f4ecf6b3ae>\u001b[0m in \u001b[0;36m<module>\u001b[0;34m()\u001b[0m\n\u001b[1;32m      2\u001b[0m \u001b[0;32mimport\u001b[0m \u001b[0mhgvs\u001b[0m\u001b[0;34m.\u001b[0m\u001b[0mposedit\u001b[0m\u001b[0;34m\u001b[0m\u001b[0m\n\u001b[1;32m      3\u001b[0m \u001b[0;32mimport\u001b[0m \u001b[0mhgvs\u001b[0m\u001b[0;34m.\u001b[0m\u001b[0medit\u001b[0m\u001b[0;34m\u001b[0m\u001b[0m\n\u001b[0;32m----> 4\u001b[0;31m \u001b[0;32mimport\u001b[0m \u001b[0mhgvs\u001b[0m\u001b[0;34m.\u001b[0m\u001b[0mvariant\u001b[0m\u001b[0;34m\u001b[0m\u001b[0m\n\u001b[0m\u001b[1;32m      5\u001b[0m \u001b[0;32mimport\u001b[0m \u001b[0mcopy\u001b[0m\u001b[0;34m\u001b[0m\u001b[0m\n",
      "\u001b[0;31mImportError\u001b[0m: No module named variant"
     ]
    }
   ],
   "source": [
    "import hgvs.location \n",
    "import hgvs.posedit  \n",
    "import hgvs.edit     \n",
    "import hgvs.variant  \n",
    "import copy"
   ]
  },
  {
   "cell_type": "markdown",
   "metadata": {},
   "source": [
    "## Troubleshooting:  \"ImportError: No module named variant\"\n",
    "### User Story:\n",
    "I am confused why one of the modules caused an error.\n",
    "### Approach:\n",
    "Use `dir()` and `help()` on hgvs and its modules.\n",
    "### Resolution: \n",
    "Execute example from `help(hgvs)`.  Import `hgvs.variantmapper`.  \n",
    "### Comments:\n",
    "`hgvs.variant` and `hgvs.variant.SequenceVariant` are now `hgvs.sequencevariant.SequenceVariant`."
   ]
  },
  {
   "cell_type": "code",
   "execution_count": 3,
   "metadata": {},
   "outputs": [
    {
     "name": "stdout",
     "output_type": "stream",
     "text": [
      "Help on package hgvs:\n",
      "\n",
      "NAME\n",
      "    hgvs\n",
      "\n",
      "FILE\n",
      "    /home/aaron/hgvs/hgvs/__init__.py\n",
      "\n",
      "DESCRIPTION\n",
      "    hgvs is a package to parse, format, and manipulate biological sequence\n",
      "    variants.  See https://github.com/biocommons/hgvs/ for details.\n",
      "    \n",
      "    Example use:\n",
      "    \n",
      "    >>> import hgvs.dataproviders.uta\n",
      "    >>> import hgvs.parser\n",
      "    >>> import hgvs.variantmapper\n",
      "    \n",
      "    # start with these variants as strings\n",
      "    >>> hgvs_g, hgvs_c = \"NC_000007.13:g.36561662C>T\", \"NM_001637.3:c.1582G>A\"\n",
      "    \n",
      "    # parse the genomic variant into a Python structure\n",
      "    >>> hp = hgvs.parser.Parser()\n",
      "    >>> var_g = hp.parse_hgvs_variant(hgvs_g)\n",
      "    >>> var_g\n",
      "    SequenceVariant(ac=NC_000007.13, type=g, posedit=36561662C>T)\n",
      "    \n",
      "    # SequenceVariants are composed of structured objects, e.g.,\n",
      "    >>> var_g.posedit.pos.start\n",
      "    SimplePosition(base=36561662, uncertain=False)\n",
      "    \n",
      "    # format by stringification \n",
      "    >>> str(var_g)\n",
      "    'NC_000007.13:g.36561662C>T'\n",
      "    \n",
      "    # initialize the mapper for GRCh37 with splign-based alignments\n",
      "    >>> hdp = hgvs.dataproviders.uta.connect()\n",
      "    >>> am = hgvs.assemblymapper.AssemblyMapper(hdp,\n",
      "    ...          assembly_name=\"GRCh37\", alt_aln_method=\"splign\",\n",
      "    ...          replace_reference=True)\n",
      "    \n",
      "    # identify transcripts that overlap this genomic variant\n",
      "    >>> transcripts = am.relevant_transcripts(var_g)\n",
      "    >>> sorted(transcripts)\n",
      "    ['NM_001177506.1', 'NM_001177507.1', 'NM_001637.3']\n",
      "    \n",
      "    # map genomic variant to one of these transcripts\n",
      "    >>> var_c = am.g_to_c(var_g, \"NM_001637.3\")\n",
      "    >>> var_c\n",
      "    SequenceVariant(ac=NM_001637.3, type=c, posedit=1582G>A)\n",
      "    >>> str(var_c)\n",
      "    'NM_001637.3:c.1582G>A'\n",
      "    \n",
      "    # CDS coordinates use BaseOffsetPosition to support intronic offsets\n",
      "    >>> var_c.posedit.pos.start\n",
      "    BaseOffsetPosition(base=1582, offset=0, datum=Datum.CDS_START, uncertain=False)\n",
      "\n",
      "PACKAGE CONTENTS\n",
      "    alignmentmapper\n",
      "    assemblymapper\n",
      "    config\n",
      "    dataproviders (package)\n",
      "    decorators (package)\n",
      "    easy\n",
      "    edit\n",
      "    enums\n",
      "    exceptions\n",
      "    hgvsposition\n",
      "    intervalmapper\n",
      "    location\n",
      "    normalizer\n",
      "    parser\n",
      "    posedit\n",
      "    projector\n",
      "    sequencevariant\n",
      "    shell\n",
      "    transcriptmapper\n",
      "    utils (package)\n",
      "    validator\n",
      "    variantmapper\n",
      "\n",
      "DATA\n",
      "    __version__ = '1.1.4.dev79+g907f995.d20181204'\n",
      "    absolute_import = _Feature((2, 5, 0, 'alpha', 1), (3, 0, 0, 'alpha', 0...\n",
      "    division = _Feature((2, 2, 0, 'alpha', 2), (3, 0, 0, 'alpha', 0), 8192...\n",
      "    global_config = <hgvs.config.Config object>\n",
      "    logger = <logging.Logger object>\n",
      "    print_function = _Feature((2, 6, 0, 'alpha', 2), (3, 0, 0, 'alpha', 0)...\n",
      "    unicode_literals = _Feature((2, 6, 0, 'alpha', 2), (3, 0, 0, 'alpha', ...\n",
      "\n",
      "VERSION\n",
      "    1.1.4.dev79+g907f995.d20181204\n",
      "\n",
      "\n"
     ]
    },
    {
     "data": {
      "text/plain": [
       "(['__builtins__',\n",
       "  '__doc__',\n",
       "  '__file__',\n",
       "  '__name__',\n",
       "  '__package__',\n",
       "  '__path__',\n",
       "  '__version__',\n",
       "  '_is_released_version',\n",
       "  'absolute_import',\n",
       "  'config',\n",
       "  'division',\n",
       "  'edit',\n",
       "  'enums',\n",
       "  'exceptions',\n",
       "  'global_config',\n",
       "  'location',\n",
       "  'logger',\n",
       "  'logging',\n",
       "  'pkg_resources',\n",
       "  'posedit',\n",
       "  'print_function',\n",
       "  're',\n",
       "  'unicode_literals',\n",
       "  'utils',\n",
       "  'warnings'],\n",
       " None)"
      ]
     },
     "execution_count": 3,
     "metadata": {},
     "output_type": "execute_result"
    }
   ],
   "source": [
    "dir(hgvs), help(hgvs)"
   ]
  },
  {
   "cell_type": "code",
   "execution_count": 4,
   "metadata": {},
   "outputs": [],
   "source": [
    "# follow example in Description\n",
    "import hgvs.dataproviders.uta\n",
    "import hgvs.parser\n",
    "import hgvs.variantmapper"
   ]
  },
  {
   "cell_type": "code",
   "execution_count": 5,
   "metadata": {},
   "outputs": [],
   "source": [
    "# chose variant, https://www.ncbi.nlm.nih.gov/snp/rs6025\n",
    "rs6025 = 'NC_000001.10:g.169519049T>C'"
   ]
  },
  {
   "cell_type": "code",
   "execution_count": 6,
   "metadata": {},
   "outputs": [
    {
     "data": {
      "text/plain": [
       "SequenceVariant(ac=NC_000001.10, type=g, posedit=169519049T>C)"
      ]
     },
     "execution_count": 6,
     "metadata": {},
     "output_type": "execute_result"
    }
   ],
   "source": [
    "# parse variant\n",
    "hp = hgvs.parser.Parser()\n",
    "rs6025P = hp.parse_hgvs_variant(rs6025)\n",
    "rs6025P"
   ]
  },
  {
   "cell_type": "code",
   "execution_count": 7,
   "metadata": {},
   "outputs": [
    {
     "data": {
      "text/plain": [
       "('NC_000001.10',\n",
       " <bound method SequenceVariant.fill_ref of SequenceVariant(ac=NC_000001.10, type=g, posedit=169519049T>C)>,\n",
       " <bound method SequenceVariant.format of SequenceVariant(ac=NC_000001.10, type=g, posedit=169519049T>C)>,\n",
       " PosEdit(pos=169519049, edit=T>C, uncertain=False),\n",
       " 'g',\n",
       " <bound method SequenceVariant.validate of SequenceVariant(ac=NC_000001.10, type=g, posedit=169519049T>C)>)"
      ]
     },
     "execution_count": 7,
     "metadata": {},
     "output_type": "execute_result"
    }
   ],
   "source": [
    "# SequenceVariant can be pulled apart\n",
    "rs6025P.ac, rs6025P.fill_ref, rs6025P.format, rs6025P.posedit, rs6025P.type, rs6025P.validate"
   ]
  },
  {
   "cell_type": "code",
   "execution_count": 8,
   "metadata": {},
   "outputs": [
    {
     "data": {
      "text/plain": [
       "(['__call__',\n",
       "  '__class__',\n",
       "  '__cmp__',\n",
       "  '__delattr__',\n",
       "  '__doc__',\n",
       "  '__format__',\n",
       "  '__func__',\n",
       "  '__get__',\n",
       "  '__getattribute__',\n",
       "  '__hash__',\n",
       "  '__init__',\n",
       "  '__new__',\n",
       "  '__reduce__',\n",
       "  '__reduce_ex__',\n",
       "  '__repr__',\n",
       "  '__self__',\n",
       "  '__setattr__',\n",
       "  '__sizeof__',\n",
       "  '__str__',\n",
       "  '__subclasshook__',\n",
       "  'im_class',\n",
       "  'im_func',\n",
       "  'im_self'],\n",
       " ['__call__',\n",
       "  '__class__',\n",
       "  '__cmp__',\n",
       "  '__delattr__',\n",
       "  '__doc__',\n",
       "  '__format__',\n",
       "  '__func__',\n",
       "  '__get__',\n",
       "  '__getattribute__',\n",
       "  '__hash__',\n",
       "  '__init__',\n",
       "  '__new__',\n",
       "  '__reduce__',\n",
       "  '__reduce_ex__',\n",
       "  '__repr__',\n",
       "  '__self__',\n",
       "  '__setattr__',\n",
       "  '__sizeof__',\n",
       "  '__str__',\n",
       "  '__subclasshook__',\n",
       "  'im_class',\n",
       "  'im_func',\n",
       "  'im_self'],\n",
       " ['__call__',\n",
       "  '__class__',\n",
       "  '__cmp__',\n",
       "  '__delattr__',\n",
       "  '__doc__',\n",
       "  '__format__',\n",
       "  '__func__',\n",
       "  '__get__',\n",
       "  '__getattribute__',\n",
       "  '__hash__',\n",
       "  '__init__',\n",
       "  '__new__',\n",
       "  '__reduce__',\n",
       "  '__reduce_ex__',\n",
       "  '__repr__',\n",
       "  '__self__',\n",
       "  '__setattr__',\n",
       "  '__sizeof__',\n",
       "  '__str__',\n",
       "  '__subclasshook__',\n",
       "  'im_class',\n",
       "  'im_func',\n",
       "  'im_self'])"
      ]
     },
     "execution_count": 8,
     "metadata": {},
     "output_type": "execute_result"
    }
   ],
   "source": [
    "# Exploring .fill_ref, .format, .validate\n",
    "dir(rs6025P.fill_ref), dir(rs6025P.format), dir(rs6025P.validate)"
   ]
  },
  {
   "cell_type": "code",
   "execution_count": 9,
   "metadata": {},
   "outputs": [],
   "source": [
    "# create dataprovider variable -- what does this do?\n",
    "hdp = hgvs.dataproviders.uta.connect()"
   ]
  },
  {
   "cell_type": "code",
   "execution_count": 10,
   "metadata": {},
   "outputs": [
    {
     "ename": "AttributeError",
     "evalue": "'module' object has no attribute 'assemblymapper'",
     "output_type": "error",
     "traceback": [
      "\u001b[0;31m---------------------------------------------------------------------------\u001b[0m",
      "\u001b[0;31mAttributeError\u001b[0m                            Traceback (most recent call last)",
      "\u001b[0;32m<ipython-input-10-99d0ab1d1e9c>\u001b[0m in \u001b[0;36m<module>\u001b[0;34m()\u001b[0m\n\u001b[1;32m      1\u001b[0m \u001b[0;31m# create assemblymapper variable\u001b[0m\u001b[0;34m\u001b[0m\u001b[0;34m\u001b[0m\u001b[0m\n\u001b[0;32m----> 2\u001b[0;31m \u001b[0mam\u001b[0m \u001b[0;34m=\u001b[0m \u001b[0mhgvs\u001b[0m\u001b[0;34m.\u001b[0m\u001b[0massemblymapper\u001b[0m\u001b[0;34m\u001b[0m\u001b[0m\n\u001b[0m",
      "\u001b[0;31mAttributeError\u001b[0m: 'module' object has no attribute 'assemblymapper'"
     ]
    }
   ],
   "source": [
    "# create assemblymapper variable\n",
    "am = hgvs.assemblymapper"
   ]
  },
  {
   "cell_type": "markdown",
   "metadata": {},
   "source": [
    "## Troubleshooting:  \"AttributeError: 'module' object has no attribute 'assemblymapper'\"\n",
    "\n",
    "### Resolution: \n",
    "Import `hgvs.assemblymapper`.\n",
    "\n",
    "### Comments:\n"
   ]
  },
  {
   "cell_type": "code",
   "execution_count": 11,
   "metadata": {},
   "outputs": [],
   "source": [
    "# import module\n",
    "import hgvs.assemblymapper"
   ]
  },
  {
   "cell_type": "markdown",
   "metadata": {},
   "source": [
    "End of troubleshooting for **\"AttributeError: 'module' object has no attribute 'assemblymapper'\"**"
   ]
  },
  {
   "cell_type": "code",
   "execution_count": 12,
   "metadata": {},
   "outputs": [
    {
     "data": {
      "text/plain": [
       "['NM_000130.4']"
      ]
     },
     "execution_count": 12,
     "metadata": {},
     "output_type": "execute_result"
    }
   ],
   "source": [
    "# create assemblymapper variable, determine transcripts effected\n",
    "am = hgvs.assemblymapper.AssemblyMapper(hdp, alt_aln_method='splign', assembly_name='GRCh37', replace_reference=True)\n",
    "transcripts = am.relevant_transcripts(rs6025P)\n",
    "sorted(transcripts)"
   ]
  },
  {
   "cell_type": "code",
   "execution_count": 13,
   "metadata": {},
   "outputs": [
    {
     "data": {
      "text/plain": [
       "SequenceVariant(ac=NM_000130.4, type=c, posedit=1601=)"
      ]
     },
     "execution_count": 13,
     "metadata": {},
     "output_type": "execute_result"
    }
   ],
   "source": [
    "# map variant to coding sequence\n",
    "rs6025c = am.g_to_c(rs6025P,transcripts[0])\n",
    "rs6025c"
   ]
  },
  {
   "cell_type": "code",
   "execution_count": 14,
   "metadata": {},
   "outputs": [
    {
     "data": {
      "text/plain": [
       "('NM_000130.4',\n",
       " NARefAlt(ref=u'G', alt=u'G', uncertain=False),\n",
       " BaseOffsetPosition(base=1601, offset=0, datum=Datum.CDS_START, uncertain=False),\n",
       " u'c')"
      ]
     },
     "execution_count": 14,
     "metadata": {},
     "output_type": "execute_result"
    }
   ],
   "source": [
    "# pull apart the SequenceVariant\n",
    "rs6025c.ac, rs6025c.posedit.edit, rs6025c.posedit.pos.start, rs6025c.type"
   ]
  },
  {
   "cell_type": "markdown",
   "metadata": {},
   "source": [
    "End of troubleshooting for **\"ImportError: No module named variant\"** \n",
    "\n",
    "## Step 2: Make an Interval to define a position of the edit"
   ]
  },
  {
   "cell_type": "code",
   "execution_count": 15,
   "metadata": {},
   "outputs": [
    {
     "ename": "AttributeError",
     "evalue": "'module' object has no attribute 'CDS_START'",
     "output_type": "error",
     "traceback": [
      "\u001b[0;31m---------------------------------------------------------------------------\u001b[0m",
      "\u001b[0;31mAttributeError\u001b[0m                            Traceback (most recent call last)",
      "\u001b[0;32m<ipython-input-15-7745a6391e8b>\u001b[0m in \u001b[0;36m<module>\u001b[0;34m()\u001b[0m\n\u001b[0;32m----> 1\u001b[0;31m \u001b[0mstart\u001b[0m \u001b[0;34m=\u001b[0m \u001b[0mhgvs\u001b[0m\u001b[0;34m.\u001b[0m\u001b[0mlocation\u001b[0m\u001b[0;34m.\u001b[0m\u001b[0mBaseOffsetPosition\u001b[0m\u001b[0;34m(\u001b[0m\u001b[0mbase\u001b[0m\u001b[0;34m=\u001b[0m\u001b[0;36m200\u001b[0m\u001b[0;34m,\u001b[0m\u001b[0moffset\u001b[0m\u001b[0;34m=\u001b[0m\u001b[0;34m-\u001b[0m\u001b[0;36m6\u001b[0m\u001b[0;34m,\u001b[0m\u001b[0mdatum\u001b[0m\u001b[0;34m=\u001b[0m\u001b[0mhgvs\u001b[0m\u001b[0;34m.\u001b[0m\u001b[0mlocation\u001b[0m\u001b[0;34m.\u001b[0m\u001b[0mCDS_START\u001b[0m\u001b[0;34m)\u001b[0m\u001b[0;34m\u001b[0m\u001b[0m\n\u001b[0m\u001b[1;32m      2\u001b[0m \u001b[0mstart\u001b[0m\u001b[0;34m,\u001b[0m \u001b[0mstr\u001b[0m\u001b[0;34m(\u001b[0m\u001b[0mstart\u001b[0m\u001b[0;34m)\u001b[0m\u001b[0;34m\u001b[0m\u001b[0m\n",
      "\u001b[0;31mAttributeError\u001b[0m: 'module' object has no attribute 'CDS_START'"
     ]
    }
   ],
   "source": [
    "start = hgvs.location.BaseOffsetPosition(base=200,offset=-6,datum=hgvs.location.CDS_START)\n",
    "start, str(start)"
   ]
  },
  {
   "cell_type": "markdown",
   "metadata": {},
   "source": [
    "## Troubleshooting:  \"AttributeError: 'module' object has no attribute 'CDS_START'\"\n",
    "\n",
    "### Resolution: \n",
    "Use `hgvs.location.Datum.` prefix.\n",
    "\n",
    "\n",
    "### Comments:\n"
   ]
  },
  {
   "cell_type": "code",
   "execution_count": 16,
   "metadata": {},
   "outputs": [
    {
     "data": {
      "text/plain": [
       "['AAPosition',\n",
       " 'BaseOffsetInterval',\n",
       " 'BaseOffsetPosition',\n",
       " 'Datum',\n",
       " 'HGVSInvalidIntervalError',\n",
       " 'HGVSUnsupportedOperationError',\n",
       " 'Interval',\n",
       " 'SimplePosition',\n",
       " 'ValidationLevel',\n",
       " '__builtins__',\n",
       " '__doc__',\n",
       " '__file__',\n",
       " '__name__',\n",
       " '__package__',\n",
       " 'aa1_to_aa3',\n",
       " 'absolute_import',\n",
       " 'attr',\n",
       " 'division',\n",
       " 'hgvs',\n",
       " 'print_function',\n",
       " 'total_ordering',\n",
       " 'unicode_literals']"
      ]
     },
     "execution_count": 16,
     "metadata": {},
     "output_type": "execute_result"
    }
   ],
   "source": [
    "# Check dir() on hgvs.location and hgvs.posedit\n",
    "dir(hgvs.location)"
   ]
  },
  {
   "cell_type": "code",
   "execution_count": 17,
   "metadata": {},
   "outputs": [
    {
     "name": "stdout",
     "output_type": "stream",
     "text": [
      "Help on class Datum in module hgvs.enums:\n",
      "\n",
      "Datum = <enum 'Datum'>\n"
     ]
    },
    {
     "data": {
      "text/plain": [
       "(None,\n",
       " ['CDS_END',\n",
       "  'CDS_START',\n",
       "  'SEQ_START',\n",
       "  '__class__',\n",
       "  '__doc__',\n",
       "  '__members__',\n",
       "  '__module__'])"
      ]
     },
     "execution_count": 17,
     "metadata": {},
     "output_type": "execute_result"
    }
   ],
   "source": [
    "# read doc on 'Datum' and check class list\n",
    "help(hgvs.location.Datum), dir(hgvs.location.Datum)"
   ]
  },
  {
   "cell_type": "code",
   "execution_count": 18,
   "metadata": {},
   "outputs": [
    {
     "data": {
      "text/plain": [
       "True"
      ]
     },
     "execution_count": 18,
     "metadata": {},
     "output_type": "execute_result"
    }
   ],
   "source": [
    "hgvs.location.Datum is hgvs.enums.Datum"
   ]
  },
  {
   "cell_type": "markdown",
   "metadata": {},
   "source": [
    "End of troubleshooting for **\"AttributeError: 'module' object has no attribute 'CDS_START'\"**\n",
    "## Step 2 cont."
   ]
  },
  {
   "cell_type": "code",
   "execution_count": 19,
   "metadata": {},
   "outputs": [
    {
     "data": {
      "text/plain": [
       "(BaseOffsetPosition(base=200, offset=-6, datum=Datum.CDS_START, uncertain=False),\n",
       " '200-6')"
      ]
     },
     "execution_count": 19,
     "metadata": {},
     "output_type": "execute_result"
    }
   ],
   "source": [
    "start = hgvs.location.BaseOffsetPosition(base=200,offset=-6,datum=hgvs.location.Datum.CDS_START)\n",
    "start, str(start)"
   ]
  },
  {
   "cell_type": "code",
   "execution_count": 20,
   "metadata": {},
   "outputs": [
    {
     "data": {
      "text/plain": [
       "(BaseOffsetPosition(base=22, offset=0, datum=Datum.CDS_END, uncertain=False),\n",
       " '*22')"
      ]
     },
     "execution_count": 20,
     "metadata": {},
     "output_type": "execute_result"
    }
   ],
   "source": [
    "end = hgvs.location.BaseOffsetPosition(base=22,datum=hgvs.location.Datum.CDS_END)\n",
    "end, str(end)"
   ]
  },
  {
   "cell_type": "code",
   "execution_count": 21,
   "metadata": {},
   "outputs": [
    {
     "data": {
      "text/plain": [
       "(Interval(start=200-6, end=*22, uncertain=False), '200-6_*22')"
      ]
     },
     "execution_count": 21,
     "metadata": {},
     "output_type": "execute_result"
    }
   ],
   "source": [
    "iv = hgvs.location.Interval(start=start,end=end)\n",
    "iv, str(iv)"
   ]
  },
  {
   "cell_type": "markdown",
   "metadata": {},
   "source": [
    "## Step 3:  Make an edit object"
   ]
  },
  {
   "cell_type": "code",
   "execution_count": 22,
   "metadata": {},
   "outputs": [
    {
     "data": {
      "text/plain": [
       "(NARefAlt(ref='A', alt='T', uncertain=False), 'A>T')"
      ]
     },
     "execution_count": 22,
     "metadata": {},
     "output_type": "execute_result"
    }
   ],
   "source": [
    "edit = hgvs.edit.NARefAlt(ref='A',alt='T')\n",
    "edit, str(edit)"
   ]
  },
  {
   "cell_type": "code",
   "execution_count": 23,
   "metadata": {},
   "outputs": [
    {
     "data": {
      "text/plain": [
       "(PosEdit(pos=200-6_*22, edit=A>T, uncertain=False), '200-6_*22A>T')"
      ]
     },
     "execution_count": 23,
     "metadata": {},
     "output_type": "execute_result"
    }
   ],
   "source": [
    "posedit = hgvs.posedit.PosEdit(pos=iv,edit=edit)\n",
    "posedit, str(posedit)"
   ]
  },
  {
   "cell_type": "code",
   "execution_count": 24,
   "metadata": {},
   "outputs": [
    {
     "ename": "AttributeError",
     "evalue": "'module' object has no attribute 'variant'",
     "output_type": "error",
     "traceback": [
      "\u001b[0;31m---------------------------------------------------------------------------\u001b[0m",
      "\u001b[0;31mAttributeError\u001b[0m                            Traceback (most recent call last)",
      "\u001b[0;32m<ipython-input-24-2790698c4bbc>\u001b[0m in \u001b[0;36m<module>\u001b[0;34m()\u001b[0m\n\u001b[0;32m----> 1\u001b[0;31m \u001b[0mvar\u001b[0m \u001b[0;34m=\u001b[0m \u001b[0mhgvs\u001b[0m\u001b[0;34m.\u001b[0m\u001b[0mvariant\u001b[0m\u001b[0;34m.\u001b[0m\u001b[0mSequenceVariant\u001b[0m\u001b[0;34m(\u001b[0m\u001b[0mac\u001b[0m\u001b[0;34m=\u001b[0m\u001b[0mtranscripts\u001b[0m\u001b[0;34m[\u001b[0m\u001b[0;36m0\u001b[0m\u001b[0;34m]\u001b[0m\u001b[0;34m,\u001b[0m \u001b[0mtype\u001b[0m\u001b[0;34m=\u001b[0m\u001b[0;34m'g'\u001b[0m\u001b[0;34m,\u001b[0m \u001b[0mposedit\u001b[0m\u001b[0;34m=\u001b[0m\u001b[0mposedit\u001b[0m\u001b[0;34m)\u001b[0m\u001b[0;34m\u001b[0m\u001b[0m\n\u001b[0m\u001b[1;32m      2\u001b[0m \u001b[0mvar\u001b[0m\u001b[0;34m,\u001b[0m \u001b[0mstr\u001b[0m\u001b[0;34m(\u001b[0m\u001b[0mvar\u001b[0m\u001b[0;34m)\u001b[0m\u001b[0;34m\u001b[0m\u001b[0m\n",
      "\u001b[0;31mAttributeError\u001b[0m: 'module' object has no attribute 'variant'"
     ]
    }
   ],
   "source": [
    "var = hgvs.variant.SequenceVariant(ac=transcripts[0], type='g', posedit=posedit)\n",
    "var, str(var)"
   ]
  },
  {
   "cell_type": "code",
   "execution_count": 25,
   "metadata": {},
   "outputs": [
    {
     "data": {
      "text/plain": [
       "(['__builtins__',\n",
       "  '__doc__',\n",
       "  '__file__',\n",
       "  '__name__',\n",
       "  '__package__',\n",
       "  '__path__',\n",
       "  '__version__',\n",
       "  '_is_released_version',\n",
       "  'absolute_import',\n",
       "  'alignmentmapper',\n",
       "  'assemblymapper',\n",
       "  'config',\n",
       "  'dataproviders',\n",
       "  'decorators',\n",
       "  'division',\n",
       "  'edit',\n",
       "  'enums',\n",
       "  'exceptions',\n",
       "  'global_config',\n",
       "  'hgvsposition',\n",
       "  'location',\n",
       "  'logger',\n",
       "  'logging',\n",
       "  'normalizer',\n",
       "  'parser',\n",
       "  'pkg_resources',\n",
       "  'posedit',\n",
       "  'print_function',\n",
       "  're',\n",
       "  'sequencevariant',\n",
       "  'unicode_literals',\n",
       "  'utils',\n",
       "  'validator',\n",
       "  'variantmapper',\n",
       "  'warnings'],\n",
       " ['SequenceVariant',\n",
       "  'ValidationLevel',\n",
       "  '__builtins__',\n",
       "  '__doc__',\n",
       "  '__file__',\n",
       "  '__name__',\n",
       "  '__package__',\n",
       "  'absolute_import',\n",
       "  'attr',\n",
       "  'division',\n",
       "  'hgvs',\n",
       "  'print_function',\n",
       "  're',\n",
       "  'unicode_literals',\n",
       "  'validate_type_ac_pair'])"
      ]
     },
     "execution_count": 25,
     "metadata": {},
     "output_type": "execute_result"
    }
   ],
   "source": [
    "# see AttributeError: 'module' object has no attribute 'variant' troubleshooting\n",
    "dir(hgvs), dir(hgvs.sequencevariant)"
   ]
  },
  {
   "cell_type": "code",
   "execution_count": 26,
   "metadata": {},
   "outputs": [
    {
     "data": {
      "text/plain": [
       "(SequenceVariant(ac=NM_000130.4, type=g, posedit=200-6_*22A>T),\n",
       " 'NM_000130.4:g.200-6_*22A>T')"
      ]
     },
     "execution_count": 26,
     "metadata": {},
     "output_type": "execute_result"
    }
   ],
   "source": [
    "# hgvs.sequencevariant is an accepted class with SequenceVariant as a class\n",
    "var = hgvs.sequencevariant.SequenceVariant(ac=transcripts[0], type='g', posedit=posedit)\n",
    "var, str(var)"
   ]
  },
  {
   "cell_type": "markdown",
   "metadata": {},
   "source": [
    "## Step 4: Validate the variant\n",
    "See hgvs.validator.Validator for validation options."
   ]
  },
  {
   "cell_type": "code",
   "execution_count": 27,
   "metadata": {},
   "outputs": [
    {
     "name": "stdout",
     "output_type": "stream",
     "text": [
      "Help on class Validator in module hgvs.validator:\n",
      "\n",
      "class Validator(__builtin__.object)\n",
      " |  invoke intrinsic and extrinsic validation\n",
      " |  \n",
      " |  Methods defined here:\n",
      " |  \n",
      " |  __init__(self, hdp, strict=True)\n",
      " |  \n",
      " |  validate(self, var, strict=None)\n",
      " |  \n",
      " |  ----------------------------------------------------------------------\n",
      " |  Data descriptors defined here:\n",
      " |  \n",
      " |  __dict__\n",
      " |      dictionary for instance variables (if defined)\n",
      " |  \n",
      " |  __weakref__\n",
      " |      list of weak references to the object (if defined)\n",
      "\n"
     ]
    },
    {
     "data": {
      "text/plain": [
       "(['__class__',\n",
       "  '__delattr__',\n",
       "  '__dict__',\n",
       "  '__doc__',\n",
       "  '__format__',\n",
       "  '__getattribute__',\n",
       "  '__hash__',\n",
       "  '__init__',\n",
       "  '__module__',\n",
       "  '__new__',\n",
       "  '__reduce__',\n",
       "  '__reduce_ex__',\n",
       "  '__repr__',\n",
       "  '__setattr__',\n",
       "  '__sizeof__',\n",
       "  '__str__',\n",
       "  '__subclasshook__',\n",
       "  '__weakref__',\n",
       "  'validate'],\n",
       " None)"
      ]
     },
     "execution_count": 27,
     "metadata": {},
     "output_type": "execute_result"
    }
   ],
   "source": [
    "dir(hgvs.validator.Validator), help(hgvs.validator.Validator)"
   ]
  },
  {
   "cell_type": "code",
   "execution_count": 28,
   "metadata": {},
   "outputs": [
    {
     "ename": "TypeError",
     "evalue": "unbound method validate() must be called with Validator instance as first argument (got SequenceVariant instance instead)",
     "output_type": "error",
     "traceback": [
      "\u001b[0;31m---------------------------------------------------------------------------\u001b[0m",
      "\u001b[0;31mTypeError\u001b[0m                                 Traceback (most recent call last)",
      "\u001b[0;32m<ipython-input-28-448033882cb8>\u001b[0m in \u001b[0;36m<module>\u001b[0;34m()\u001b[0m\n\u001b[0;32m----> 1\u001b[0;31m \u001b[0mhgvs\u001b[0m\u001b[0;34m.\u001b[0m\u001b[0mvalidator\u001b[0m\u001b[0;34m.\u001b[0m\u001b[0mValidator\u001b[0m\u001b[0;34m.\u001b[0m\u001b[0mvalidate\u001b[0m\u001b[0;34m(\u001b[0m\u001b[0mvar\u001b[0m\u001b[0;34m)\u001b[0m\u001b[0;34m\u001b[0m\u001b[0m\n\u001b[0m",
      "\u001b[0;31mTypeError\u001b[0m: unbound method validate() must be called with Validator instance as first argument (got SequenceVariant instance instead)"
     ]
    }
   ],
   "source": [
    "hgvs.validator.Validator.validate(var)"
   ]
  },
  {
   "cell_type": "code",
   "execution_count": 29,
   "metadata": {},
   "outputs": [
    {
     "ename": "TypeError",
     "evalue": "unbound method validate() must be called with Validator instance as first argument (got instancemethod instance instead)",
     "output_type": "error",
     "traceback": [
      "\u001b[0;31m---------------------------------------------------------------------------\u001b[0m",
      "\u001b[0;31mTypeError\u001b[0m                                 Traceback (most recent call last)",
      "\u001b[0;32m<ipython-input-29-fe2d77c4c128>\u001b[0m in \u001b[0;36m<module>\u001b[0;34m()\u001b[0m\n\u001b[0;32m----> 1\u001b[0;31m \u001b[0mhgvs\u001b[0m\u001b[0;34m.\u001b[0m\u001b[0mvalidator\u001b[0m\u001b[0;34m.\u001b[0m\u001b[0mValidator\u001b[0m\u001b[0;34m.\u001b[0m\u001b[0mvalidate\u001b[0m\u001b[0;34m(\u001b[0m\u001b[0mvar\u001b[0m\u001b[0;34m.\u001b[0m\u001b[0mvalidate\u001b[0m\u001b[0;34m)\u001b[0m\u001b[0;34m\u001b[0m\u001b[0m\n\u001b[0m",
      "\u001b[0;31mTypeError\u001b[0m: unbound method validate() must be called with Validator instance as first argument (got instancemethod instance instead)"
     ]
    }
   ],
   "source": [
    "hgvs.validator.Validator.validate(var.validate)"
   ]
  },
  {
   "cell_type": "markdown",
   "metadata": {},
   "source": [
    "## Troubleshooting:  \"TypeError: unbound method validate() must be called with Validator instance as first argument\"\n",
    "\n",
    "### Resolution: \n",
    "Use `hgvs.sequencevariant.validate_type_ac_pair(ac= , type= )`.\n",
    "\n",
    "\n",
    "### Comments:\n"
   ]
  },
  {
   "cell_type": "code",
   "execution_count": 30,
   "metadata": {},
   "outputs": [
    {
     "data": {
      "text/plain": [
       "(<ValidationLevel.ERROR: 3>,\n",
       " 'Accession (NM_000130.4) is not compatible with variant type g')"
      ]
     },
     "execution_count": 30,
     "metadata": {},
     "output_type": "execute_result"
    }
   ],
   "source": [
    "# hgvs.sequencevariant has validate_type_ac_pair\n",
    "val = hgvs.sequencevariant.validate_type_ac_pair(ac=var.ac, type=var.type)\n",
    "val"
   ]
  },
  {
   "cell_type": "markdown",
   "metadata": {},
   "source": [
    "End of troubleshooting for **\"TypeError: unbound method validate() must be called with Validator instance as first argument\"**"
   ]
  },
  {
   "cell_type": "code",
   "execution_count": 31,
   "metadata": {},
   "outputs": [],
   "source": [
    "var.type = 'c'"
   ]
  },
  {
   "cell_type": "code",
   "execution_count": 32,
   "metadata": {},
   "outputs": [
    {
     "data": {
      "text/plain": [
       "(<ValidationLevel.VALID: 1>,\n",
       " 'Accession (NM_000130.4) is compatible with variant type c')"
      ]
     },
     "execution_count": 32,
     "metadata": {},
     "output_type": "execute_result"
    }
   ],
   "source": [
    "val = hgvs.sequencevariant.validate_type_ac_pair(ac=var.ac, type=var.type)\n",
    "val"
   ]
  },
  {
   "cell_type": "markdown",
   "metadata": {},
   "source": [
    "## Step 5: Update variant using copy.deepcopy"
   ]
  },
  {
   "cell_type": "code",
   "execution_count": 33,
   "metadata": {},
   "outputs": [],
   "source": [
    "import copy"
   ]
  },
  {
   "cell_type": "code",
   "execution_count": 34,
   "metadata": {},
   "outputs": [
    {
     "data": {
      "text/plain": [
       "SequenceVariant(ac=NM_000130.4, type=c, posedit=200-6_*22A>T)"
      ]
     },
     "execution_count": 34,
     "metadata": {},
     "output_type": "execute_result"
    }
   ],
   "source": [
    "var2 = copy.deepcopy(var)\n",
    "var2"
   ]
  },
  {
   "cell_type": "code",
   "execution_count": 35,
   "metadata": {},
   "outputs": [],
   "source": [
    "var2.posedit.pos.start.base = 456"
   ]
  },
  {
   "cell_type": "code",
   "execution_count": 36,
   "metadata": {},
   "outputs": [
    {
     "data": {
      "text/plain": [
       "'NM_000130.4:c.456-6_*22A>T'"
      ]
     },
     "execution_count": 36,
     "metadata": {},
     "output_type": "execute_result"
    }
   ],
   "source": [
    "str(var2)"
   ]
  },
  {
   "cell_type": "code",
   "execution_count": 37,
   "metadata": {},
   "outputs": [],
   "source": [
    "var2.posedit.edit.alt = 'CT'"
   ]
  },
  {
   "cell_type": "code",
   "execution_count": 38,
   "metadata": {},
   "outputs": [
    {
     "data": {
      "text/plain": [
       "'NM_000130.4:c.456-6_*22delinsCT'"
      ]
     },
     "execution_count": 38,
     "metadata": {},
     "output_type": "execute_result"
    }
   ],
   "source": [
    "str(var2)"
   ]
  },
  {
   "cell_type": "code",
   "execution_count": 39,
   "metadata": {},
   "outputs": [],
   "source": [
    "var2.posedit.pos.end.uncertain = True"
   ]
  },
  {
   "cell_type": "code",
   "execution_count": 40,
   "metadata": {},
   "outputs": [
    {
     "ename": "HGVSUnsupportedOperationError",
     "evalue": "Cannot compare coordinates of uncertain positions",
     "output_type": "error",
     "traceback": [
      "\u001b[0;31m---------------------------------------------------------------------------\u001b[0m",
      "\u001b[0;31mHGVSUnsupportedOperationError\u001b[0m             Traceback (most recent call last)",
      "\u001b[0;32m<ipython-input-40-6b5f40c97e0c>\u001b[0m in \u001b[0;36m<module>\u001b[0;34m()\u001b[0m\n\u001b[0;32m----> 1\u001b[0;31m \u001b[0mstr\u001b[0m\u001b[0;34m(\u001b[0m\u001b[0mvar2\u001b[0m\u001b[0;34m)\u001b[0m\u001b[0;34m\u001b[0m\u001b[0m\n\u001b[0m",
      "\u001b[0;32m/home/aaron/hgvs/hgvs/sequencevariant.pyc\u001b[0m in \u001b[0;36mformat\u001b[0;34m(self, conf)\u001b[0m\n\u001b[1;32m     33\u001b[0m         \"\"\"\n\u001b[1;32m     34\u001b[0m         \u001b[0;32mif\u001b[0m \u001b[0mself\u001b[0m\u001b[0;34m.\u001b[0m\u001b[0mposedit\u001b[0m \u001b[0;32mis\u001b[0m \u001b[0;32mnot\u001b[0m \u001b[0mNone\u001b[0m\u001b[0;34m:\u001b[0m\u001b[0;34m\u001b[0m\u001b[0m\n\u001b[0;32m---> 35\u001b[0;31m             \u001b[0mposedit\u001b[0m \u001b[0;34m=\u001b[0m \u001b[0mself\u001b[0m\u001b[0;34m.\u001b[0m\u001b[0mposedit\u001b[0m\u001b[0;34m.\u001b[0m\u001b[0mformat\u001b[0m\u001b[0;34m(\u001b[0m\u001b[0mconf\u001b[0m\u001b[0;34m)\u001b[0m\u001b[0;34m\u001b[0m\u001b[0m\n\u001b[0m\u001b[1;32m     36\u001b[0m         \u001b[0;32melse\u001b[0m\u001b[0;34m:\u001b[0m\u001b[0;34m\u001b[0m\u001b[0m\n\u001b[1;32m     37\u001b[0m             \u001b[0mposedit\u001b[0m \u001b[0;34m=\u001b[0m \u001b[0;34m\"?\"\u001b[0m\u001b[0;34m\u001b[0m\u001b[0m\n",
      "\u001b[0;32m/home/aaron/hgvs/hgvs/posedit.pyc\u001b[0m in \u001b[0;36mformat\u001b[0;34m(self, conf)\u001b[0m\n\u001b[1;32m     27\u001b[0m             \u001b[0mrv\u001b[0m \u001b[0;34m=\u001b[0m \u001b[0mstr\u001b[0m\u001b[0;34m(\u001b[0m\u001b[0mself\u001b[0m\u001b[0;34m.\u001b[0m\u001b[0medit\u001b[0m\u001b[0;34m.\u001b[0m\u001b[0mformat\u001b[0m\u001b[0;34m(\u001b[0m\u001b[0mconf\u001b[0m\u001b[0;34m)\u001b[0m\u001b[0;34m)\u001b[0m\u001b[0;34m\u001b[0m\u001b[0m\n\u001b[1;32m     28\u001b[0m         \u001b[0;32melse\u001b[0m\u001b[0;34m:\u001b[0m\u001b[0;34m\u001b[0m\u001b[0m\n\u001b[0;32m---> 29\u001b[0;31m             \u001b[0mrv\u001b[0m \u001b[0;34m=\u001b[0m \u001b[0;34m\"{pos}{edit}\"\u001b[0m\u001b[0;34m.\u001b[0m\u001b[0mformat\u001b[0m\u001b[0;34m(\u001b[0m\u001b[0mpos\u001b[0m\u001b[0;34m=\u001b[0m\u001b[0mself\u001b[0m\u001b[0;34m.\u001b[0m\u001b[0mpos\u001b[0m\u001b[0;34m.\u001b[0m\u001b[0mformat\u001b[0m\u001b[0;34m(\u001b[0m\u001b[0mconf\u001b[0m\u001b[0;34m)\u001b[0m\u001b[0;34m,\u001b[0m \u001b[0medit\u001b[0m\u001b[0;34m=\u001b[0m\u001b[0mself\u001b[0m\u001b[0;34m.\u001b[0m\u001b[0medit\u001b[0m\u001b[0;34m.\u001b[0m\u001b[0mformat\u001b[0m\u001b[0;34m(\u001b[0m\u001b[0mconf\u001b[0m\u001b[0;34m)\u001b[0m\u001b[0;34m)\u001b[0m\u001b[0;34m\u001b[0m\u001b[0m\n\u001b[0m\u001b[1;32m     30\u001b[0m \u001b[0;34m\u001b[0m\u001b[0m\n\u001b[1;32m     31\u001b[0m         \u001b[0;32mif\u001b[0m \u001b[0mself\u001b[0m\u001b[0;34m.\u001b[0m\u001b[0muncertain\u001b[0m\u001b[0;34m:\u001b[0m\u001b[0;34m\u001b[0m\u001b[0m\n",
      "\u001b[0;32m/home/aaron/hgvs/hgvs/location.pyc\u001b[0m in \u001b[0;36mformat\u001b[0;34m(self, conf)\u001b[0m\n\u001b[1;32m    313\u001b[0m         \u001b[0;32mif\u001b[0m \u001b[0mself\u001b[0m\u001b[0;34m.\u001b[0m\u001b[0mstart\u001b[0m \u001b[0;32mis\u001b[0m \u001b[0mNone\u001b[0m\u001b[0;34m:\u001b[0m\u001b[0;34m\u001b[0m\u001b[0m\n\u001b[1;32m    314\u001b[0m             \u001b[0;32mreturn\u001b[0m \u001b[0;34m\"\"\u001b[0m\u001b[0;34m\u001b[0m\u001b[0m\n\u001b[0;32m--> 315\u001b[0;31m         \u001b[0;32mif\u001b[0m \u001b[0mself\u001b[0m\u001b[0;34m.\u001b[0m\u001b[0mend\u001b[0m \u001b[0;32mis\u001b[0m \u001b[0mNone\u001b[0m \u001b[0;32mor\u001b[0m \u001b[0mself\u001b[0m\u001b[0;34m.\u001b[0m\u001b[0mstart\u001b[0m \u001b[0;34m==\u001b[0m \u001b[0mself\u001b[0m\u001b[0;34m.\u001b[0m\u001b[0mend\u001b[0m\u001b[0;34m:\u001b[0m\u001b[0;34m\u001b[0m\u001b[0m\n\u001b[0m\u001b[1;32m    316\u001b[0m             \u001b[0;32mreturn\u001b[0m \u001b[0mself\u001b[0m\u001b[0;34m.\u001b[0m\u001b[0mstart\u001b[0m\u001b[0;34m.\u001b[0m\u001b[0mformat\u001b[0m\u001b[0;34m(\u001b[0m\u001b[0mconf\u001b[0m\u001b[0;34m)\u001b[0m\u001b[0;34m\u001b[0m\u001b[0m\n\u001b[1;32m    317\u001b[0m         \u001b[0miv\u001b[0m \u001b[0;34m=\u001b[0m \u001b[0mself\u001b[0m\u001b[0;34m.\u001b[0m\u001b[0mstart\u001b[0m\u001b[0;34m.\u001b[0m\u001b[0mformat\u001b[0m\u001b[0;34m(\u001b[0m\u001b[0mconf\u001b[0m\u001b[0;34m)\u001b[0m \u001b[0;34m+\u001b[0m \u001b[0;34m\"_\"\u001b[0m \u001b[0;34m+\u001b[0m \u001b[0mself\u001b[0m\u001b[0;34m.\u001b[0m\u001b[0mend\u001b[0m\u001b[0;34m.\u001b[0m\u001b[0mformat\u001b[0m\u001b[0;34m(\u001b[0m\u001b[0mconf\u001b[0m\u001b[0;34m)\u001b[0m\u001b[0;34m\u001b[0m\u001b[0m\n",
      "\u001b[0;32m/home/aaron/hgvs/hgvs/location.pyc\u001b[0m in \u001b[0;36m__eq__\u001b[0;34m(lhs, rhs)\u001b[0m\n\u001b[1;32m    169\u001b[0m         \u001b[0;32massert\u001b[0m \u001b[0mtype\u001b[0m\u001b[0;34m(\u001b[0m\u001b[0mlhs\u001b[0m\u001b[0;34m)\u001b[0m \u001b[0;34m==\u001b[0m \u001b[0mtype\u001b[0m\u001b[0;34m(\u001b[0m\u001b[0mrhs\u001b[0m\u001b[0;34m)\u001b[0m\u001b[0;34m,\u001b[0m \u001b[0;34m\"Cannot compare coordinates of different representations\"\u001b[0m\u001b[0;34m\u001b[0m\u001b[0m\n\u001b[1;32m    170\u001b[0m         \u001b[0;32mif\u001b[0m \u001b[0mlhs\u001b[0m\u001b[0;34m.\u001b[0m\u001b[0muncertain\u001b[0m \u001b[0;32mor\u001b[0m \u001b[0mrhs\u001b[0m\u001b[0;34m.\u001b[0m\u001b[0muncertain\u001b[0m\u001b[0;34m:\u001b[0m\u001b[0;34m\u001b[0m\u001b[0m\n\u001b[0;32m--> 171\u001b[0;31m             \u001b[0;32mraise\u001b[0m \u001b[0mHGVSUnsupportedOperationError\u001b[0m\u001b[0;34m(\u001b[0m\u001b[0;34m\"Cannot compare coordinates of uncertain positions\"\u001b[0m\u001b[0;34m)\u001b[0m\u001b[0;34m\u001b[0m\u001b[0m\n\u001b[0m\u001b[1;32m    172\u001b[0m         \u001b[0;32mreturn\u001b[0m \u001b[0mlhs\u001b[0m\u001b[0;34m.\u001b[0m\u001b[0mdatum\u001b[0m \u001b[0;34m==\u001b[0m \u001b[0mrhs\u001b[0m\u001b[0;34m.\u001b[0m\u001b[0mdatum\u001b[0m \u001b[0;32mand\u001b[0m \u001b[0mlhs\u001b[0m\u001b[0;34m.\u001b[0m\u001b[0mbase\u001b[0m \u001b[0;34m==\u001b[0m \u001b[0mrhs\u001b[0m\u001b[0;34m.\u001b[0m\u001b[0mbase\u001b[0m \u001b[0;32mand\u001b[0m \u001b[0mlhs\u001b[0m\u001b[0;34m.\u001b[0m\u001b[0moffset\u001b[0m \u001b[0;34m==\u001b[0m \u001b[0mrhs\u001b[0m\u001b[0;34m.\u001b[0m\u001b[0moffset\u001b[0m\u001b[0;34m\u001b[0m\u001b[0m\n\u001b[1;32m    173\u001b[0m \u001b[0;34m\u001b[0m\u001b[0m\n",
      "\u001b[0;31mHGVSUnsupportedOperationError\u001b[0m: Cannot compare coordinates of uncertain positions"
     ]
    }
   ],
   "source": [
    "str(var2)"
   ]
  },
  {
   "cell_type": "code",
   "execution_count": 41,
   "metadata": {},
   "outputs": [],
   "source": [
    "var2 = copy.deepcopy(var)\n",
    "var2.posedit.pos.end.uncertain = True"
   ]
  },
  {
   "cell_type": "code",
   "execution_count": 42,
   "metadata": {},
   "outputs": [
    {
     "ename": "HGVSUnsupportedOperationError",
     "evalue": "Cannot compare coordinates of uncertain positions",
     "output_type": "error",
     "traceback": [
      "\u001b[0;31m---------------------------------------------------------------------------\u001b[0m",
      "\u001b[0;31mHGVSUnsupportedOperationError\u001b[0m             Traceback (most recent call last)",
      "\u001b[0;32m<ipython-input-42-6b5f40c97e0c>\u001b[0m in \u001b[0;36m<module>\u001b[0;34m()\u001b[0m\n\u001b[0;32m----> 1\u001b[0;31m \u001b[0mstr\u001b[0m\u001b[0;34m(\u001b[0m\u001b[0mvar2\u001b[0m\u001b[0;34m)\u001b[0m\u001b[0;34m\u001b[0m\u001b[0m\n\u001b[0m",
      "\u001b[0;32m/home/aaron/hgvs/hgvs/sequencevariant.pyc\u001b[0m in \u001b[0;36mformat\u001b[0;34m(self, conf)\u001b[0m\n\u001b[1;32m     33\u001b[0m         \"\"\"\n\u001b[1;32m     34\u001b[0m         \u001b[0;32mif\u001b[0m \u001b[0mself\u001b[0m\u001b[0;34m.\u001b[0m\u001b[0mposedit\u001b[0m \u001b[0;32mis\u001b[0m \u001b[0;32mnot\u001b[0m \u001b[0mNone\u001b[0m\u001b[0;34m:\u001b[0m\u001b[0;34m\u001b[0m\u001b[0m\n\u001b[0;32m---> 35\u001b[0;31m             \u001b[0mposedit\u001b[0m \u001b[0;34m=\u001b[0m \u001b[0mself\u001b[0m\u001b[0;34m.\u001b[0m\u001b[0mposedit\u001b[0m\u001b[0;34m.\u001b[0m\u001b[0mformat\u001b[0m\u001b[0;34m(\u001b[0m\u001b[0mconf\u001b[0m\u001b[0;34m)\u001b[0m\u001b[0;34m\u001b[0m\u001b[0m\n\u001b[0m\u001b[1;32m     36\u001b[0m         \u001b[0;32melse\u001b[0m\u001b[0;34m:\u001b[0m\u001b[0;34m\u001b[0m\u001b[0m\n\u001b[1;32m     37\u001b[0m             \u001b[0mposedit\u001b[0m \u001b[0;34m=\u001b[0m \u001b[0;34m\"?\"\u001b[0m\u001b[0;34m\u001b[0m\u001b[0m\n",
      "\u001b[0;32m/home/aaron/hgvs/hgvs/posedit.pyc\u001b[0m in \u001b[0;36mformat\u001b[0;34m(self, conf)\u001b[0m\n\u001b[1;32m     27\u001b[0m             \u001b[0mrv\u001b[0m \u001b[0;34m=\u001b[0m \u001b[0mstr\u001b[0m\u001b[0;34m(\u001b[0m\u001b[0mself\u001b[0m\u001b[0;34m.\u001b[0m\u001b[0medit\u001b[0m\u001b[0;34m.\u001b[0m\u001b[0mformat\u001b[0m\u001b[0;34m(\u001b[0m\u001b[0mconf\u001b[0m\u001b[0;34m)\u001b[0m\u001b[0;34m)\u001b[0m\u001b[0;34m\u001b[0m\u001b[0m\n\u001b[1;32m     28\u001b[0m         \u001b[0;32melse\u001b[0m\u001b[0;34m:\u001b[0m\u001b[0;34m\u001b[0m\u001b[0m\n\u001b[0;32m---> 29\u001b[0;31m             \u001b[0mrv\u001b[0m \u001b[0;34m=\u001b[0m \u001b[0;34m\"{pos}{edit}\"\u001b[0m\u001b[0;34m.\u001b[0m\u001b[0mformat\u001b[0m\u001b[0;34m(\u001b[0m\u001b[0mpos\u001b[0m\u001b[0;34m=\u001b[0m\u001b[0mself\u001b[0m\u001b[0;34m.\u001b[0m\u001b[0mpos\u001b[0m\u001b[0;34m.\u001b[0m\u001b[0mformat\u001b[0m\u001b[0;34m(\u001b[0m\u001b[0mconf\u001b[0m\u001b[0;34m)\u001b[0m\u001b[0;34m,\u001b[0m \u001b[0medit\u001b[0m\u001b[0;34m=\u001b[0m\u001b[0mself\u001b[0m\u001b[0;34m.\u001b[0m\u001b[0medit\u001b[0m\u001b[0;34m.\u001b[0m\u001b[0mformat\u001b[0m\u001b[0;34m(\u001b[0m\u001b[0mconf\u001b[0m\u001b[0;34m)\u001b[0m\u001b[0;34m)\u001b[0m\u001b[0;34m\u001b[0m\u001b[0m\n\u001b[0m\u001b[1;32m     30\u001b[0m \u001b[0;34m\u001b[0m\u001b[0m\n\u001b[1;32m     31\u001b[0m         \u001b[0;32mif\u001b[0m \u001b[0mself\u001b[0m\u001b[0;34m.\u001b[0m\u001b[0muncertain\u001b[0m\u001b[0;34m:\u001b[0m\u001b[0;34m\u001b[0m\u001b[0m\n",
      "\u001b[0;32m/home/aaron/hgvs/hgvs/location.pyc\u001b[0m in \u001b[0;36mformat\u001b[0;34m(self, conf)\u001b[0m\n\u001b[1;32m    313\u001b[0m         \u001b[0;32mif\u001b[0m \u001b[0mself\u001b[0m\u001b[0;34m.\u001b[0m\u001b[0mstart\u001b[0m \u001b[0;32mis\u001b[0m \u001b[0mNone\u001b[0m\u001b[0;34m:\u001b[0m\u001b[0;34m\u001b[0m\u001b[0m\n\u001b[1;32m    314\u001b[0m             \u001b[0;32mreturn\u001b[0m \u001b[0;34m\"\"\u001b[0m\u001b[0;34m\u001b[0m\u001b[0m\n\u001b[0;32m--> 315\u001b[0;31m         \u001b[0;32mif\u001b[0m \u001b[0mself\u001b[0m\u001b[0;34m.\u001b[0m\u001b[0mend\u001b[0m \u001b[0;32mis\u001b[0m \u001b[0mNone\u001b[0m \u001b[0;32mor\u001b[0m \u001b[0mself\u001b[0m\u001b[0;34m.\u001b[0m\u001b[0mstart\u001b[0m \u001b[0;34m==\u001b[0m \u001b[0mself\u001b[0m\u001b[0;34m.\u001b[0m\u001b[0mend\u001b[0m\u001b[0;34m:\u001b[0m\u001b[0;34m\u001b[0m\u001b[0m\n\u001b[0m\u001b[1;32m    316\u001b[0m             \u001b[0;32mreturn\u001b[0m \u001b[0mself\u001b[0m\u001b[0;34m.\u001b[0m\u001b[0mstart\u001b[0m\u001b[0;34m.\u001b[0m\u001b[0mformat\u001b[0m\u001b[0;34m(\u001b[0m\u001b[0mconf\u001b[0m\u001b[0;34m)\u001b[0m\u001b[0;34m\u001b[0m\u001b[0m\n\u001b[1;32m    317\u001b[0m         \u001b[0miv\u001b[0m \u001b[0;34m=\u001b[0m \u001b[0mself\u001b[0m\u001b[0;34m.\u001b[0m\u001b[0mstart\u001b[0m\u001b[0;34m.\u001b[0m\u001b[0mformat\u001b[0m\u001b[0;34m(\u001b[0m\u001b[0mconf\u001b[0m\u001b[0;34m)\u001b[0m \u001b[0;34m+\u001b[0m \u001b[0;34m\"_\"\u001b[0m \u001b[0;34m+\u001b[0m \u001b[0mself\u001b[0m\u001b[0;34m.\u001b[0m\u001b[0mend\u001b[0m\u001b[0;34m.\u001b[0m\u001b[0mformat\u001b[0m\u001b[0;34m(\u001b[0m\u001b[0mconf\u001b[0m\u001b[0;34m)\u001b[0m\u001b[0;34m\u001b[0m\u001b[0m\n",
      "\u001b[0;32m/home/aaron/hgvs/hgvs/location.pyc\u001b[0m in \u001b[0;36m__eq__\u001b[0;34m(lhs, rhs)\u001b[0m\n\u001b[1;32m    169\u001b[0m         \u001b[0;32massert\u001b[0m \u001b[0mtype\u001b[0m\u001b[0;34m(\u001b[0m\u001b[0mlhs\u001b[0m\u001b[0;34m)\u001b[0m \u001b[0;34m==\u001b[0m \u001b[0mtype\u001b[0m\u001b[0;34m(\u001b[0m\u001b[0mrhs\u001b[0m\u001b[0;34m)\u001b[0m\u001b[0;34m,\u001b[0m \u001b[0;34m\"Cannot compare coordinates of different representations\"\u001b[0m\u001b[0;34m\u001b[0m\u001b[0m\n\u001b[1;32m    170\u001b[0m         \u001b[0;32mif\u001b[0m \u001b[0mlhs\u001b[0m\u001b[0;34m.\u001b[0m\u001b[0muncertain\u001b[0m \u001b[0;32mor\u001b[0m \u001b[0mrhs\u001b[0m\u001b[0;34m.\u001b[0m\u001b[0muncertain\u001b[0m\u001b[0;34m:\u001b[0m\u001b[0;34m\u001b[0m\u001b[0m\n\u001b[0;32m--> 171\u001b[0;31m             \u001b[0;32mraise\u001b[0m \u001b[0mHGVSUnsupportedOperationError\u001b[0m\u001b[0;34m(\u001b[0m\u001b[0;34m\"Cannot compare coordinates of uncertain positions\"\u001b[0m\u001b[0;34m)\u001b[0m\u001b[0;34m\u001b[0m\u001b[0m\n\u001b[0m\u001b[1;32m    172\u001b[0m         \u001b[0;32mreturn\u001b[0m \u001b[0mlhs\u001b[0m\u001b[0;34m.\u001b[0m\u001b[0mdatum\u001b[0m \u001b[0;34m==\u001b[0m \u001b[0mrhs\u001b[0m\u001b[0;34m.\u001b[0m\u001b[0mdatum\u001b[0m \u001b[0;32mand\u001b[0m \u001b[0mlhs\u001b[0m\u001b[0;34m.\u001b[0m\u001b[0mbase\u001b[0m \u001b[0;34m==\u001b[0m \u001b[0mrhs\u001b[0m\u001b[0;34m.\u001b[0m\u001b[0mbase\u001b[0m \u001b[0;32mand\u001b[0m \u001b[0mlhs\u001b[0m\u001b[0;34m.\u001b[0m\u001b[0moffset\u001b[0m \u001b[0;34m==\u001b[0m \u001b[0mrhs\u001b[0m\u001b[0;34m.\u001b[0m\u001b[0moffset\u001b[0m\u001b[0;34m\u001b[0m\u001b[0m\n\u001b[1;32m    173\u001b[0m \u001b[0;34m\u001b[0m\u001b[0m\n",
      "\u001b[0;31mHGVSUnsupportedOperationError\u001b[0m: Cannot compare coordinates of uncertain positions"
     ]
    }
   ],
   "source": [
    "str(var2)"
   ]
  },
  {
   "cell_type": "markdown",
   "metadata": {},
   "source": [
    "## Troubleshooting:  \"HGVSUnsupportedOperationError: Cannot compare coordinates of uncertain positions\"\n",
    "\n",
    "### Resolution: \n",
    "None at this time.  \n",
    "\n",
    "\n",
    "### Comments:\n"
   ]
  }
 ],
 "metadata": {
  "kernelspec": {
   "display_name": "Environment (conda_hgvs)",
   "language": "python",
   "name": "conda_hgvs"
  },
  "language_info": {
   "codemirror_mode": {
    "name": "ipython",
    "version": 2
   },
   "file_extension": ".py",
   "mimetype": "text/x-python",
   "name": "python",
   "nbconvert_exporter": "python",
   "pygments_lexer": "ipython2",
   "version": "2.7.15"
  }
 },
 "nbformat": 4,
 "nbformat_minor": 2
}
