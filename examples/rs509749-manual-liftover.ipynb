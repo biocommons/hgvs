{
 "cells": [
  {
   "cell_type": "markdown",
   "metadata": {},
   "source": [
    "# Manual liftover of NM_001261456.1:c.1762A>G (rs509749) to NM_001261457.1 via GRCh37\n",
    "http://www.ncbi.nlm.nih.gov/projects/SNP/snp_ref.cgi?rs=509749\n"
   ]
  },
  {
   "cell_type": "code",
   "execution_count": 1,
   "metadata": {},
   "outputs": [],
   "source": [
    "import hgvs.dataproviders.uta\n",
    "import hgvs.variantmapper\n",
    "import hgvs.parser"
   ]
  },
  {
   "cell_type": "code",
   "execution_count": 2,
   "metadata": {},
   "outputs": [],
   "source": [
    "hdp = hgvs.dataproviders.uta.connect()\n",
    "variantmapper = hgvs.variantmapper.VariantMapper(hdp)\n",
    "hgvsparser = hgvs.parser.Parser()"
   ]
  },
  {
   "cell_type": "code",
   "execution_count": 3,
   "metadata": {},
   "outputs": [
    {
     "data": {
      "text/plain": [
       "(SequenceVariant(ac=NM_001261456.1, type=c, posedit=1762A>G, gene=None),\n",
       " SequenceVariant(ac=NP_001248385.1, type=p, posedit=(Met588Val), gene=None))"
      ]
     },
     "execution_count": 3,
     "metadata": {},
     "output_type": "execute_result"
    }
   ],
   "source": [
    "var_c1 = hgvsparser.parse_hgvs_variant('NM_001261456.1:c.1762A>G')\n",
    "var_p1 = variantmapper.c_to_p(var_c1, None)\n",
    "var_c1, var_p1"
   ]
  },
  {
   "cell_type": "code",
   "execution_count": 4,
   "metadata": {},
   "outputs": [
    {
     "data": {
      "text/plain": [
       "SequenceVariant(ac=NC_000001.10, type=g, posedit=160793560A>G, gene=None)"
      ]
     },
     "execution_count": 4,
     "metadata": {},
     "output_type": "execute_result"
    }
   ],
   "source": [
    "var_g = variantmapper.c_to_g(var_c1,'NC_000001.10')\n",
    "var_g"
   ]
  },
  {
   "cell_type": "code",
   "execution_count": 5,
   "metadata": {},
   "outputs": [
    {
     "data": {
      "text/plain": [
       "[['LY9', 114, 2040, 'NM_001261456.1', 'AC_000133.1', 'splign'],\n",
       " ['LY9', 114, 2040, 'NM_001261456.1', 'NC_000001.10', 'blat'],\n",
       " ['LY9', 114, 2040, 'NM_001261456.1', 'NC_000001.10', 'splign'],\n",
       " ['LY9', 114, 2040, 'NM_001261456.1', 'NC_000001.11', 'splign'],\n",
       " ['LY9', 114, 2040, 'NM_001261456.1', 'NC_018912.2', 'splign'],\n",
       " ['LY9', 114, 696, 'NM_001033667.2', 'AC_000133.1', 'splign'],\n",
       " ['LY9', 114, 696, 'NM_001033667.2', 'NC_000001.10', 'blat'],\n",
       " ['LY9', 114, 696, 'NM_001033667.2', 'NC_000001.10', 'splign'],\n",
       " ['LY9', 114, 696, 'NM_001033667.2', 'NC_000001.11', 'splign'],\n",
       " ['LY9', 114, 696, 'NM_001033667.2', 'NC_018912.2', 'splign'],\n",
       " ['LY9', 114, 2082, 'NM_002348.3', 'AC_000133.1', 'splign'],\n",
       " ['LY9', 114, 2082, 'NM_002348.3', 'NC_000001.10', 'blat'],\n",
       " ['LY9', 114, 2082, 'NM_002348.3', 'NC_000001.10', 'splign'],\n",
       " ['LY9', 114, 2082, 'NM_002348.3', 'NC_000001.11', 'splign'],\n",
       " ['LY9', 114, 2082, 'NM_002348.3', 'NC_018912.2', 'splign'],\n",
       " ['LY9', 114, 1812, 'NM_001261457.1', 'AC_000133.1', 'splign'],\n",
       " ['LY9', 114, 1812, 'NM_001261457.1', 'NC_000001.10', 'blat'],\n",
       " ['LY9', 114, 1812, 'NM_001261457.1', 'NC_000001.10', 'splign'],\n",
       " ['LY9', 114, 1812, 'NM_001261457.1', 'NC_000001.11', 'splign'],\n",
       " ['LY9', 114, 1812, 'NM_001261457.1', 'NC_018912.2', 'splign'],\n",
       " ['LY9', 14, 1982, 'NM_002348.4', 'NC_000001.10', 'splign'],\n",
       " ['LY9', 114, 2040, 'ENST00000368037', 'NC_000001.10', 'genebuild'],\n",
       " ['LY9', None, None, 'ENST00000474998', 'NC_000001.10', 'genebuild'],\n",
       " ['LY9', 76, 1774, 'ENST00000392203', 'NC_000001.10', 'genebuild'],\n",
       " ['LY9', 30, 1998, 'ENST00000263285', 'NC_000001.10', 'genebuild'],\n",
       " ['LY9', 1, 583, 'ENST00000368039', 'NC_000001.10', 'genebuild'],\n",
       " ['LY9', None, None, 'ENST00000480837', 'NC_000001.10', 'genebuild'],\n",
       " ['LY9', None, None, 'ENST00000490902', 'NC_000001.10', 'genebuild'],\n",
       " ['LY9', None, None, 'ENST00000471816', 'NC_000001.10', 'genebuild'],\n",
       " ['LY9', None, None, 'ENST00000485624', 'NC_000001.10', 'genebuild'],\n",
       " ['LY9', None, None, 'ENST00000479663', 'NC_000001.10', 'genebuild'],\n",
       " ['LY9', 0, 1024, 'ENST00000368035', 'NC_000001.10', 'genebuild'],\n",
       " ['LY9', 50, 1616, 'ENST00000341032', 'NC_000001.10', 'genebuild'],\n",
       " ['LY9', 170, 1751, 'ENST00000368041', 'NC_000001.10', 'genebuild'],\n",
       " ['LY9', 1094, 1907, 'ENST00000368040', 'NC_000001.10', 'genebuild'],\n",
       " ['LY9', 14, 1940, 'NM_001261456.2', 'NC_000001.10', 'splign'],\n",
       " ['LY9', 14, 1940, 'NM_001261456.2', 'NC_000001.11', 'splign'],\n",
       " ['LY9', 14, 1712, 'NM_001261457.2', 'NC_000001.10', 'splign'],\n",
       " ['LY9', 14, 1712, 'NM_001261457.2', 'NC_000001.11', 'splign'],\n",
       " ['LY9', 14, 596, 'NM_001033667.3', 'NC_000001.10', 'splign'],\n",
       " ['LY9', 14, 596, 'NM_001033667.3', 'NC_000001.11', 'splign'],\n",
       " ['LY9', 14, 1982, 'NM_002348.4', 'NC_000001.11', 'splign']]"
      ]
     },
     "execution_count": 5,
     "metadata": {},
     "output_type": "execute_result"
    }
   ],
   "source": [
    "txs = hdp.get_tx_for_gene('LY9')\n",
    "txs"
   ]
  },
  {
   "cell_type": "code",
   "execution_count": 6,
   "metadata": {},
   "outputs": [
    {
     "data": {
      "text/plain": [
       "(SequenceVariant(ac=NM_001261457.1, type=c, posedit=1534A>G, gene=None),\n",
       " SequenceVariant(ac=NP_001248386.1, type=p, posedit=(Met512Val), gene=None))"
      ]
     },
     "execution_count": 6,
     "metadata": {},
     "output_type": "execute_result"
    }
   ],
   "source": [
    "var_c2 = variantmapper.g_to_c(var_g,'NM_001261457.1',alt_aln_method='splign')\n",
    "var_p2 = variantmapper.c_to_p(var_c2, None)\n",
    "var_c2, var_p2"
   ]
  }
 ],
 "metadata": {
  "interpreter": {
   "hash": "b9fb0dc3ec6155a4e6f0e0c05e2eb333b89bc66a97fcbb949ab37abf3ce8b359"
  },
  "kernelspec": {
   "display_name": "Python 3.11.5 ('venv': venv)",
   "language": "python",
   "name": "python3"
  },
  "language_info": {
   "codemirror_mode": {
    "name": "ipython",
    "version": 3
   },
   "file_extension": ".py",
   "mimetype": "text/x-python",
   "name": "python",
   "nbconvert_exporter": "python",
   "pygments_lexer": "ipython3",
   "version": "3.11.5"
  },
  "orig_nbformat": 4
 },
 "nbformat": 4,
 "nbformat_minor": 2
}
