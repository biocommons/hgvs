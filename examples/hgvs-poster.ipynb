{
 "cells": [
  {
   "cell_type": "markdown",
   "metadata": {},
   "source": [
    "# Parse and Format a Variant"
   ]
  },
  {
   "cell_type": "code",
   "execution_count": 1,
   "metadata": {
    "collapsed": false
   },
   "outputs": [
    {
     "data": {
      "text/plain": [
       "SequenceVariant(ac=NC_000001.10, type=g, posedit=150550916_150550920delGACAAinsCAATACC)"
      ]
     },
     "execution_count": 1,
     "metadata": {},
     "output_type": "execute_result"
    }
   ],
   "source": [
    "import hgvs.parser\n",
    "hp = hgvs.parser.Parser()\n",
    "\n",
    "g_hgvs = 'NC_000001.10:g.150550916_150550920delGACAAinsCAATACC'\n",
    "g_var = hp.parse_hgvs_variant(g_hgvs)\n",
    "g_var"
   ]
  },
  {
   "cell_type": "markdown",
   "metadata": {},
   "source": [
    "# Map variants between sequences"
   ]
  },
  {
   "cell_type": "code",
   "execution_count": 2,
   "metadata": {
    "collapsed": false
   },
   "outputs": [],
   "source": [
    "import hgvs.dataproviders.uta\n",
    "hdp = hgvs.dataproviders.uta.connect()\n",
    "\n",
    "import hgvs.variantmapper\n",
    "evm = hgvs.variantmapper.EasyVariantMapper(hdp, primary_assembly='GRCh37', alt_aln_method='splign')"
   ]
  },
  {
   "cell_type": "code",
   "execution_count": 3,
   "metadata": {
    "collapsed": false
   },
   "outputs": [
    {
     "data": {
      "text/plain": [
       "[SequenceVariant(ac=NM_182763.2, type=c, posedit=688+399_688+403delTTGTCinsGGTATTG),\n",
       " SequenceVariant(ac=NM_021960.4, type=c, posedit=736_740delTTGTCinsGGTATTG),\n",
       " SequenceVariant(ac=NM_001197320.1, type=c, posedit=277_281delTTGTCinsGGTATTG)]"
      ]
     },
     "execution_count": 3,
     "metadata": {},
     "output_type": "execute_result"
    }
   ],
   "source": [
    "c_vars = [evm.g_to_c(g_var, ac) for ac in evm.relevant_transcripts(g_var)]\n",
    "c_vars"
   ]
  },
  {
   "cell_type": "code",
   "execution_count": 4,
   "metadata": {
    "collapsed": false
   },
   "outputs": [
    {
     "data": {
      "text/plain": [
       "[SequenceVariant(ac=NP_877495.1, type=p, posedit=?),\n",
       " SequenceVariant(ac=NP_068779.1, type=p, posedit=(Leu246GlyfsTer5)),\n",
       " SequenceVariant(ac=NP_001184249.1, type=p, posedit=(Leu93GlyfsTer5))]"
      ]
     },
     "execution_count": 4,
     "metadata": {},
     "output_type": "execute_result"
    }
   ],
   "source": [
    "p_vars = [evm.c_to_p(c_var) for c_var in c_vars]\n",
    "p_vars"
   ]
  },
  {
   "cell_type": "markdown",
   "metadata": {},
   "source": [
    "# Normalize (Shuffle and Rewrite) Variants"
   ]
  },
  {
   "cell_type": "code",
   "execution_count": 5,
   "metadata": {
    "collapsed": false
   },
   "outputs": [
    {
     "data": {
      "text/plain": [
       "SequenceVariant(ac=NM_021960.4, type=c, posedit=737dupT)"
      ]
     },
     "execution_count": 5,
     "metadata": {},
     "output_type": "execute_result"
    }
   ],
   "source": [
    "import hgvs.normalizer\n",
    "hn = hgvs.normalizer.Normalizer(hdp)\n",
    "hn.normalize(hp.parse_hgvs_variant('NM_021960.4:c.735_736insT'))"
   ]
  },
  {
   "cell_type": "markdown",
   "metadata": {},
   "source": [
    "# Validate Variants"
   ]
  },
  {
   "cell_type": "code",
   "execution_count": 6,
   "metadata": {
    "collapsed": false
   },
   "outputs": [
    {
     "name": "stdout",
     "output_type": "stream",
     "text": [
      "NM_021960.4:c.736_740delATGTCinsGGTATTG: Variant reference (ATGTC) does not agree with reference sequence (TTGTC)\n"
     ]
    }
   ],
   "source": [
    "import hgvs.validator\n",
    "hv = hgvs.validator.Validator(hdp)\n",
    "try:\n",
    "    hv.validate(hp.parse_hgvs_variant('NM_021960.4:c.736_740delATGTCinsGGTATTG'))\n",
    "except Exception as e:\n",
    "    print(e)"
   ]
  },
  {
   "cell_type": "markdown",
   "metadata": {},
   "source": [
    "# `SequenceVariant` instances are structured variant representations"
   ]
  },
  {
   "cell_type": "code",
   "execution_count": 7,
   "metadata": {
    "collapsed": false
   },
   "outputs": [
    {
     "data": {
      "text/plain": [
       "('NC_000001.10',\n",
       " 'g',\n",
       " PosEdit(pos=150550916_150550920, edit=delGACAAinsCAATACC, uncertain=False))"
      ]
     },
     "execution_count": 7,
     "metadata": {},
     "output_type": "execute_result"
    }
   ],
   "source": [
    "g_var.ac, g_var.type, g_var.posedit"
   ]
  },
  {
   "cell_type": "code",
   "execution_count": 8,
   "metadata": {
    "collapsed": false
   },
   "outputs": [
    {
     "data": {
      "text/plain": [
       "SimplePosition(base=150550916, uncertain=False)"
      ]
     },
     "execution_count": 8,
     "metadata": {},
     "output_type": "execute_result"
    }
   ],
   "source": [
    "g_var.posedit.pos.start"
   ]
  },
  {
   "cell_type": "code",
   "execution_count": 9,
   "metadata": {
    "collapsed": false
   },
   "outputs": [
    {
     "data": {
      "text/plain": [
       "('GACAA', 'CAATACC')"
      ]
     },
     "execution_count": 9,
     "metadata": {},
     "output_type": "execute_result"
    }
   ],
   "source": [
    "g_var.posedit.edit.ref, g_var.posedit.edit.alt"
   ]
  },
  {
   "cell_type": "markdown",
   "metadata": {},
   "source": [
    "# Format variants simply by \"stringifying\" them with `print` or `format`"
   ]
  },
  {
   "cell_type": "code",
   "execution_count": 10,
   "metadata": {
    "collapsed": false
   },
   "outputs": [
    {
     "name": "stdout",
     "output_type": "stream",
     "text": [
      "Your variant was NC_000001.10:g.150550916_150550920delGACAAinsCAATACC mapped to:\n",
      "  NM_182763.2:c.688+399_688+403delTTGTCinsGGTATTG (NP_877495.1:p.?)\n",
      "  NM_021960.4:c.736_740delTTGTCinsGGTATTG (NP_068779.1:p.(Leu246GlyfsTer5))\n",
      "  NM_001197320.1:c.277_281delTTGTCinsGGTATTG (NP_001184249.1:p.(Leu93GlyfsTer5))\n"
     ]
    }
   ],
   "source": [
    "print(\"\\n\".join([\"Your variant was {v} mapped to:\".format(v=g_var)]\n",
    "                + [\"  {c_var} ({p_var})\".format(c_var=c_var, p_var=p_var)\n",
    "                   for c_var,p_var in zip(c_vars,p_vars)]))"
   ]
  },
  {
   "cell_type": "markdown",
   "metadata": {},
   "source": [
    "NCBI SeqViewer for MCL1 region on GRCh37.p13\n",
    "<img src=\"images/MCL1.png\">\n",
    "<img src=\"images/MCL1-zoom.png\">"
   ]
  }
 ],
 "metadata": {
  "kernelspec": {
   "display_name": "Python 2",
   "language": "python",
   "name": "python2"
  },
  "language_info": {
   "codemirror_mode": {
    "name": "ipython",
    "version": 2
   },
   "file_extension": ".py",
   "mimetype": "text/x-python",
   "name": "python",
   "nbconvert_exporter": "python",
   "pygments_lexer": "ipython2",
   "version": "2.7.9"
  }
 },
 "nbformat": 4,
 "nbformat_minor": 0
}
