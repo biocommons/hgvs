{
 "cells": [
  {
   "cell_type": "markdown",
   "metadata": {},
   "source": [
    "# Automated liftover of NM_001261456.1:c.1762A>G (rs509749) to NM_001261457.1 via GRCh37\n",
    "Automatically project variant from one transcript to another via common reference.\n",
    "http://www.ncbi.nlm.nih.gov/projects/SNP/snp_ref.cgi?rs=509749 "
   ]
  },
  {
   "cell_type": "code",
   "execution_count": 1,
   "metadata": {},
   "outputs": [],
   "source": [
    "import hgvs.parser\n",
    "hgvsparser = hgvs.parser.Parser()\n",
    "var_c1 = hgvsparser.parse_hgvs_variant('NM_001261456.1:c.1762A>G')"
   ]
  },
  {
   "cell_type": "code",
   "execution_count": 2,
   "metadata": {},
   "outputs": [],
   "source": [
    "import hgvs.dataproviders.uta\n",
    "hdp = hgvs.dataproviders.uta.connect()"
   ]
  },
  {
   "cell_type": "code",
   "execution_count": 3,
   "metadata": {},
   "outputs": [],
   "source": [
    "import hgvs.projector\n",
    "pj = hgvs.projector.Projector(hdp=hdp,\n",
    "                              alt_ac='NC_000001.10',\n",
    "                              src_ac=var_c1.ac,\n",
    "                              dst_ac='NM_001261457.1')"
   ]
  },
  {
   "cell_type": "code",
   "execution_count": 4,
   "metadata": {},
   "outputs": [
    {
     "data": {
      "text/plain": [
       "SequenceVariant(ac=NM_001261457.1, type=c, posedit=1534A>G, gene=None)"
      ]
     },
     "execution_count": 4,
     "metadata": {},
     "output_type": "execute_result"
    }
   ],
   "source": [
    "pj.project_variant_forward(var_c1)"
   ]
  }
 ],
 "metadata": {
  "interpreter": {
   "hash": "b9fb0dc3ec6155a4e6f0e0c05e2eb333b89bc66a97fcbb949ab37abf3ce8b359"
  },
  "kernelspec": {
   "display_name": "Python 3.11.5 ('venv': venv)",
   "language": "python",
   "name": "python3"
  },
  "language_info": {
   "codemirror_mode": {
    "name": "ipython",
    "version": 3
   },
   "file_extension": ".py",
   "mimetype": "text/x-python",
   "name": "python",
   "nbconvert_exporter": "python",
   "pygments_lexer": "ipython3",
   "version": "3.11.5"
  },
  "orig_nbformat": 4
 },
 "nbformat": 4,
 "nbformat_minor": 2
}
