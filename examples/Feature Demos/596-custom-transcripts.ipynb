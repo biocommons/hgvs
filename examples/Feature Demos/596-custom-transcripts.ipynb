{
 "cells": [
  {
   "cell_type": "markdown",
   "metadata": {},
   "source": [
    "# 596: Support for custom transcripts\n",
    "See https://github.com/biocommons/hgvs/issues/596\n",
    "\n",
    "[UTA#220](https://github.com/biocommons/uta/issues/220) added support for custom transcripts, which really means custom alignments associated with a new `alt_aln_method`, \"splign-manual\".  The [loading/data/splign-manual](https://github.com/biocommons/uta/tree/master/loading/data/splign-manual) contains examples.\n",
    "\n",
    "Although hgvs supports multiple alignment methods already (e.g., one can specify \"blat\", \"splign\" in `VariantMapper::g_to_c()`), several areas of code assume one default `alt_aln_method`. \n",
    "\n",
    "This work was sponsored by Invitae, which uses the `VariantMapper` interface. Therefore, this new feature focuses on  minimal changes to extend hgvs to better support using multiple alignment methods with `VariantMapper`.  These are demonstrated below.\n",
    "\n"
   ]
  },
  {
   "cell_type": "markdown",
   "metadata": {},
   "source": [
    "## Setup\n",
    "Initialize hgvs and create two variants from CYP2C19 to use as examples ([VCV000634882.1](https://www.ncbi.nlm.nih.gov/clinvar/variation/634882/))"
   ]
  },
  {
   "cell_type": "code",
   "execution_count": 1,
   "metadata": {},
   "outputs": [
    {
     "data": {
      "text/plain": [
       "'1.5.0.post2.dev11+g0772088.d20200328'"
      ]
     },
     "execution_count": 1,
     "metadata": {},
     "output_type": "execute_result"
    }
   ],
   "source": [
    "from hgvs.easy import (__version__, parser, hdp, vm)\n",
    "from hgvs.exceptions import HGVSDataNotAvailableError\n",
    "__version__"
   ]
  },
  {
   "cell_type": "code",
   "execution_count": 2,
   "metadata": {},
   "outputs": [],
   "source": [
    "# hgvs_g = \"NC_000010.11:g.94762693G>A\"  # GRCh38\n",
    "hgvs_g = \"NC_000010.10:g.96522450G>A\"  # GRCh37\n",
    "hgvs_c = \"NM_000769.4:c.-13G>A\"\n",
    "\n",
    "var_c = parser.parse(hgvs_c)\n",
    "var_g = parser.parse(hgvs_g)"
   ]
  },
  {
   "cell_type": "markdown",
   "metadata": {},
   "source": [
    "## Discovering available alignments"
   ]
  },
  {
   "cell_type": "markdown",
   "metadata": {},
   "source": [
    "### Alignments for a specified transcript\n",
    "This approach identifies available alignments and then selects the desired one to use with `VariantMapper::c_to_g()` as above."
   ]
  },
  {
   "cell_type": "code",
   "execution_count": 3,
   "metadata": {},
   "outputs": [
    {
     "data": {
      "text/plain": [
       "[['NM_000769.4', 'NC_000010.10', 'splign-manual']]"
      ]
     },
     "execution_count": 3,
     "metadata": {},
     "output_type": "execute_result"
    }
   ],
   "source": [
    "hdp.get_tx_mapping_options(var_c.ac)"
   ]
  },
  {
   "cell_type": "code",
   "execution_count": 4,
   "metadata": {},
   "outputs": [
    {
     "data": {
      "text/plain": [
       "[['NM_001807.4', 'AC_000141.1', 'splign'],\n",
       " ['NM_001807.4', 'NC_000009.11', 'blat'],\n",
       " ['NM_001807.4', 'NC_000009.11', 'splign'],\n",
       " ['NM_001807.4', 'NC_000009.11', 'splign-manual'],\n",
       " ['NM_001807.4', 'NC_000009.12', 'splign'],\n",
       " ['NM_001807.4', 'NC_018920.2', 'splign'],\n",
       " ['NM_001807.4', 'NG_016394.1', 'splign']]"
      ]
     },
     "execution_count": 4,
     "metadata": {},
     "output_type": "execute_result"
    }
   ],
   "source": [
    "# or, for a more complete example with many options:\n",
    "hdp.get_tx_mapping_options(\"NM_001807.4\")"
   ]
  },
  {
   "cell_type": "markdown",
   "metadata": {},
   "source": [
    "### Alignments for a gene"
   ]
  },
  {
   "cell_type": "code",
   "execution_count": 5,
   "metadata": {},
   "outputs": [
    {
     "data": {
      "text/plain": [
       "[['CYP2C19', 82, 1555, 'ENST00000371321', 'NC_000010.10', 'genebuild'],\n",
       " ['CYP2C19', None, None, 'ENST00000464755', 'NC_000010.10', 'genebuild'],\n",
       " ['CYP2C19', None, None, 'ENST00000480405', 'NC_000010.10', 'genebuild'],\n",
       " ['CYP2C19', 0, 1473, 'NM_000769.1', 'AC_000142.1', 'splign'],\n",
       " ['CYP2C19', 0, 1473, 'NM_000769.1', 'NC_000010.10', 'blat'],\n",
       " ['CYP2C19', 0, 1473, 'NM_000769.1', 'NC_000010.10', 'splign'],\n",
       " ['CYP2C19', 0, 1473, 'NM_000769.1', 'NC_018921.2', 'splign'],\n",
       " ['CYP2C19', 0, 1473, 'NM_000769.1', 'NG_008384.2', 'splign'],\n",
       " ['CYP2C19', 25, 1498, 'NM_000769.2', 'NC_000010.10', 'blat'],\n",
       " ['CYP2C19', 25, 1498, 'NM_000769.2', 'NC_000010.10', 'splign'],\n",
       " ['CYP2C19', 25, 1498, 'NM_000769.2', 'NC_000010.11', 'splign'],\n",
       " ['CYP2C19', 25, 1498, 'NM_000769.3', 'NC_000010.10', 'splign'],\n",
       " ['CYP2C19', 25, 1498, 'NM_000769.3', 'NC_000010.11', 'splign'],\n",
       " ['CYP2C19', 25, 1498, 'NM_000769.4', 'NC_000010.10', 'splign-manual']]"
      ]
     },
     "execution_count": 5,
     "metadata": {},
     "output_type": "execute_result"
    }
   ],
   "source": [
    "alignments = hdp.get_tx_for_gene(\"CYP2C19\")\n",
    "alignments.sort(key=lambda a: (a[\"tx_ac\"], a[\"alt_ac\"], a[\"alt_aln_method\"]))\n",
    "alignments"
   ]
  },
  {
   "cell_type": "markdown",
   "metadata": {},
   "source": [
    "### Alignments for a genomic region (new method)\n",
    "\n",
    "The hgvs data provider method `get_tx_for_region` used a supplied alignment method, which necessarily filtered alignments for a specific alignment method.  A new method, `get_alignments_for_region` provides similar functionality with an optional `alt_aln_method` parameter.\n",
    "\n",
    "When `alt_aln_method` is None (or not provided), all alignments are returned.\n",
    "When `alt_aln_method` is provided, it behaves exactly like `get_tx_for_region`."
   ]
  },
  {
   "cell_type": "code",
   "execution_count": 6,
   "metadata": {
    "scrolled": true
   },
   "outputs": [
    {
     "data": {
      "text/plain": [
       "[['ENST00000371321', 'NC_000010.10', 1, 'genebuild', 96522380, 96613017],\n",
       " ['ENST00000464755', 'NC_000010.10', 1, 'genebuild', 96447910, 96612830],\n",
       " ['ENST00000480405', 'NC_000010.10', 1, 'genebuild', 96522437, 96536207],\n",
       " ['NM_000769.2', 'NC_000010.10', 1, 'blat', 96522437, 96612962],\n",
       " ['NM_000769.2', 'NC_000010.10', 1, 'splign', 96522437, 96612962],\n",
       " ['NM_000769.3', 'NC_000010.10', 1, 'splign', 96522437, 96615308],\n",
       " ['NM_000769.4', 'NC_000010.10', 1, 'splign-manual', 96522437, 96615304]]"
      ]
     },
     "execution_count": 6,
     "metadata": {},
     "output_type": "execute_result"
    }
   ],
   "source": [
    "start = var_g.posedit.pos.start.base\n",
    "end = var_g.posedit.pos.end.base\n",
    "\n",
    "alignments = hdp.get_alignments_for_region(var_g.ac, start, end)\n",
    "alignments.sort(key=lambda a: (a[\"tx_ac\"], a[\"alt_ac\"], a[\"alt_aln_method\"]))\n",
    "alignments"
   ]
  },
  {
   "cell_type": "markdown",
   "metadata": {},
   "source": [
    "## Alternate method for transcript-to-genome projections: Using try...except\n",
    "\n",
    "This approach follows the easier-to-ask-for-forgiveness-than-permission principle. Code tries \"splign\", which is expected to satisfy the majority of cases, and then falls back to \"splign-manual\" for failures.  The advantage of this method is that there is only one database fetch for the most common case."
   ]
  },
  {
   "cell_type": "code",
   "execution_count": 7,
   "metadata": {},
   "outputs": [
    {
     "name": "stdout",
     "output_type": "stream",
     "text": [
      "Got HGVSDataNotAvailableError('No tx_info for (tx_ac=NM_000769.4,alt_ac=NC_000010.10,alt_aln_method=splign)')\n"
     ]
    }
   ],
   "source": [
    "try:\n",
    "    vm.c_to_g(var_c, \"NC_000010.10\")\n",
    "except HGVSDataNotAvailableError as e:\n",
    "    print(f\"Got {e!r}\")"
   ]
  },
  {
   "cell_type": "code",
   "execution_count": 8,
   "metadata": {},
   "outputs": [
    {
     "data": {
      "text/plain": [
       "SequenceVariant(ac=NC_000010.10, type=g, posedit=96522450G>A, gene=None)"
      ]
     },
     "execution_count": 8,
     "metadata": {},
     "output_type": "execute_result"
    }
   ],
   "source": [
    "vm.c_to_g(var_c, \"NC_000010.10\", alt_aln_method=\"splign-manual\")"
   ]
  }
 ],
 "metadata": {
  "kernelspec": {
   "display_name": "Python 3",
   "language": "python",
   "name": "python3"
  },
  "language_info": {
   "codemirror_mode": {
    "name": "ipython",
    "version": 3
   },
   "file_extension": ".py",
   "mimetype": "text/x-python",
   "name": "python",
   "nbconvert_exporter": "python",
   "pygments_lexer": "ipython3",
   "version": "3.7.5"
  }
 },
 "nbformat": 4,
 "nbformat_minor": 4
}
