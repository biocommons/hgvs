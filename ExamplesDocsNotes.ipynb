{
 "cells": [
  {
   "cell_type": "markdown",
   "metadata": {},
   "source": [
    "# hgvs Documention: Examples\n",
    "\n",
    "This notebook is being drafted to run and review the code presented in the hgvs documentation that is in the \"Creating a SequenceVariant from scratch\" section (https://hgvs.readthedocs.io/en/stable/examples/creating-a-variant.html#overview).  \n",
    "\n",
    "Errors will be addressed through \"troubleshooting: (issue)\" sections.  These sections will not include any documentation.  Rather cite \"help(*function*)\" which can be found at the very end of the document."
   ]
  },
  {
   "cell_type": "markdown",
   "metadata": {},
   "source": [
    "## Step 1:  Make an Interval to defined a position of the edit"
   ]
  },
  {
   "cell_type": "code",
   "execution_count": 2,
   "metadata": {},
   "outputs": [],
   "source": [
    "import hgvs.location\n",
    "import hgvs.posedit"
   ]
  },
  {
   "cell_type": "code",
   "execution_count": 3,
   "metadata": {},
   "outputs": [
    {
     "ename": "AttributeError",
     "evalue": "'module' object has no attribute 'CDS_START'",
     "output_type": "error",
     "traceback": [
      "\u001b[0;31m---------------------------------------------------------------------------\u001b[0m",
      "\u001b[0;31mAttributeError\u001b[0m                            Traceback (most recent call last)",
      "\u001b[0;32m<ipython-input-3-7745a6391e8b>\u001b[0m in \u001b[0;36m<module>\u001b[0;34m()\u001b[0m\n\u001b[0;32m----> 1\u001b[0;31m \u001b[0mstart\u001b[0m \u001b[0;34m=\u001b[0m \u001b[0mhgvs\u001b[0m\u001b[0;34m.\u001b[0m\u001b[0mlocation\u001b[0m\u001b[0;34m.\u001b[0m\u001b[0mBaseOffsetPosition\u001b[0m\u001b[0;34m(\u001b[0m\u001b[0mbase\u001b[0m\u001b[0;34m=\u001b[0m\u001b[0;36m200\u001b[0m\u001b[0;34m,\u001b[0m\u001b[0moffset\u001b[0m\u001b[0;34m=\u001b[0m\u001b[0;34m-\u001b[0m\u001b[0;36m6\u001b[0m\u001b[0;34m,\u001b[0m\u001b[0mdatum\u001b[0m\u001b[0;34m=\u001b[0m\u001b[0mhgvs\u001b[0m\u001b[0;34m.\u001b[0m\u001b[0mlocation\u001b[0m\u001b[0;34m.\u001b[0m\u001b[0mCDS_START\u001b[0m\u001b[0;34m)\u001b[0m\u001b[0;34m\u001b[0m\u001b[0m\n\u001b[0m\u001b[1;32m      2\u001b[0m \u001b[0mstart\u001b[0m\u001b[0;34m,\u001b[0m \u001b[0mstr\u001b[0m\u001b[0;34m(\u001b[0m\u001b[0mstart\u001b[0m\u001b[0;34m)\u001b[0m\u001b[0;34m\u001b[0m\u001b[0m\n",
      "\u001b[0;31mAttributeError\u001b[0m: 'module' object has no attribute 'CDS_START'"
     ]
    }
   ],
   "source": [
    "start = hgvs.location.BaseOffsetPosition(base=200,offset=-6,datum=hgvs.location.CDS_START)\n",
    "start, str(start)"
   ]
  },
  {
   "cell_type": "code",
   "execution_count": 4,
   "metadata": {},
   "outputs": [
    {
     "ename": "AttributeError",
     "evalue": "'module' object has no attribute 'CDS_END'",
     "output_type": "error",
     "traceback": [
      "\u001b[0;31m---------------------------------------------------------------------------\u001b[0m",
      "\u001b[0;31mAttributeError\u001b[0m                            Traceback (most recent call last)",
      "\u001b[0;32m<ipython-input-4-b286a5ec4ade>\u001b[0m in \u001b[0;36m<module>\u001b[0;34m()\u001b[0m\n\u001b[0;32m----> 1\u001b[0;31m \u001b[0mend\u001b[0m \u001b[0;34m=\u001b[0m \u001b[0mhgvs\u001b[0m\u001b[0;34m.\u001b[0m\u001b[0mlocation\u001b[0m\u001b[0;34m.\u001b[0m\u001b[0mBaseOffsetPosition\u001b[0m\u001b[0;34m(\u001b[0m\u001b[0mbase\u001b[0m\u001b[0;34m=\u001b[0m\u001b[0;36m22\u001b[0m\u001b[0;34m,\u001b[0m\u001b[0mdatum\u001b[0m\u001b[0;34m=\u001b[0m\u001b[0mhgvs\u001b[0m\u001b[0;34m.\u001b[0m\u001b[0mlocation\u001b[0m\u001b[0;34m.\u001b[0m\u001b[0mCDS_END\u001b[0m\u001b[0;34m)\u001b[0m\u001b[0;34m\u001b[0m\u001b[0m\n\u001b[0m\u001b[1;32m      2\u001b[0m \u001b[0mend\u001b[0m\u001b[0;34m,\u001b[0m \u001b[0mstr\u001b[0m\u001b[0;34m(\u001b[0m\u001b[0mend\u001b[0m\u001b[0;34m)\u001b[0m\u001b[0;34m\u001b[0m\u001b[0m\n",
      "\u001b[0;31mAttributeError\u001b[0m: 'module' object has no attribute 'CDS_END'"
     ]
    }
   ],
   "source": [
    "end = hgvs.location.BaseOffsetPosition(base=22,datum=hgvs.location.CDS_END)\n",
    "end, str(end)"
   ]
  },
  {
   "cell_type": "markdown",
   "metadata": {},
   "source": [
    "## Troubleshooting:  \"AttributeError: 'module' object has no attribute 'CDS_START/CDS_END'\"\n",
    "\n",
    "### Resolution: \n",
    "It seems that there was a typo in this section.  There seems to be `.Datum` missing before `.CDS_START`/`.CDS_END` and after `hgvs.location`.  This seems to be fixed by also using `hgvs.enums.Datum`.  Used help(*hgvs.location.BaseOffsetPosition*).\n",
    "\n",
    "### Post-resolution Issues:\n",
    "As a user, I am confused why there are a number of objects that can be entered for the datum variable.  I would like to have an explaination or a clearly defined workflow for using the datum variable."
   ]
  },
  {
   "cell_type": "code",
   "execution_count": 7,
   "metadata": {},
   "outputs": [
    {
     "data": {
      "text/plain": [
       "(['CDS_END',\n",
       "  'CDS_START',\n",
       "  'SEQ_START',\n",
       "  '__class__',\n",
       "  '__doc__',\n",
       "  '__members__',\n",
       "  '__module__'],\n",
       " ['CDS_END',\n",
       "  'CDS_START',\n",
       "  'SEQ_START',\n",
       "  '__class__',\n",
       "  '__doc__',\n",
       "  '__members__',\n",
       "  '__module__'])"
      ]
     },
     "execution_count": 7,
     "metadata": {},
     "output_type": "execute_result"
    }
   ],
   "source": [
    "dir(hgvs.enums.Datum), dir(hgvs.location.Datum)  "
   ]
  },
  {
   "cell_type": "code",
   "execution_count": 110,
   "metadata": {},
   "outputs": [
    {
     "data": {
      "text/plain": [
       "(BaseOffsetPosition(base=200, offset=-6, datum=Datum.CDS_START, uncertain=False),\n",
       " '200-6')"
      ]
     },
     "execution_count": 110,
     "metadata": {},
     "output_type": "execute_result"
    }
   ],
   "source": [
    "start = hgvs.location.BaseOffsetPosition(base=200,offset=-6,datum=hgvs.location.Datum.CDS_START)\n",
    "start, str(start)"
   ]
  },
  {
   "cell_type": "code",
   "execution_count": 111,
   "metadata": {},
   "outputs": [
    {
     "data": {
      "text/plain": [
       "(BaseOffsetPosition(base=22, offset=0, datum=Datum.CDS_END, uncertain=False),\n",
       " '*22')"
      ]
     },
     "execution_count": 111,
     "metadata": {},
     "output_type": "execute_result"
    }
   ],
   "source": [
    "end = hgvs.location.BaseOffsetPosition(base=22,datum=hgvs.enums.Datum.CDS_END)\n",
    "end, str(end)"
   ]
  },
  {
   "cell_type": "code",
   "execution_count": 112,
   "metadata": {},
   "outputs": [
    {
     "data": {
      "text/plain": [
       "(Interval(start=200-6, end=*22, uncertain=False), '200-6_*22')"
      ]
     },
     "execution_count": 112,
     "metadata": {},
     "output_type": "execute_result"
    }
   ],
   "source": [
    "iv = hgvs.location.Interval(start=start,end=end)\n",
    "iv, str(iv)"
   ]
  },
  {
   "cell_type": "markdown",
   "metadata": {},
   "source": [
    "## Make an edit"
   ]
  },
  {
   "cell_type": "code",
   "execution_count": 11,
   "metadata": {},
   "outputs": [],
   "source": [
    "import hgvs.edit"
   ]
  },
  {
   "cell_type": "code",
   "execution_count": 12,
   "metadata": {},
   "outputs": [
    {
     "data": {
      "text/plain": [
       "(NARefAlt(ref='A', alt='T', uncertain=False), 'A>T')"
      ]
     },
     "execution_count": 12,
     "metadata": {},
     "output_type": "execute_result"
    }
   ],
   "source": [
    "edit = hgvs.edit.NARefAlt(ref='A',alt='T')\n",
    "edit, str(edit)"
   ]
  },
  {
   "cell_type": "code",
   "execution_count": 13,
   "metadata": {},
   "outputs": [
    {
     "data": {
      "text/plain": [
       "(PosEdit(pos=200-6_*22, edit=A>T, uncertain=False), '200-6_*22A>T')"
      ]
     },
     "execution_count": 13,
     "metadata": {},
     "output_type": "execute_result"
    }
   ],
   "source": [
    "posedit = hgvs.posedit.PosEdit(pos=iv,edit=edit)\n",
    "posedit, str(posedit)"
   ]
  },
  {
   "cell_type": "markdown",
   "metadata": {},
   "source": [
    "## Make a variant"
   ]
  },
  {
   "cell_type": "code",
   "execution_count": 14,
   "metadata": {},
   "outputs": [
    {
     "ename": "ImportError",
     "evalue": "No module named variant",
     "output_type": "error",
     "traceback": [
      "\u001b[0;31m---------------------------------------------------------------------------\u001b[0m",
      "\u001b[0;31mImportError\u001b[0m                               Traceback (most recent call last)",
      "\u001b[0;32m<ipython-input-14-b0b6ee0d2f90>\u001b[0m in \u001b[0;36m<module>\u001b[0;34m()\u001b[0m\n\u001b[0;32m----> 1\u001b[0;31m \u001b[0;32mimport\u001b[0m \u001b[0mhgvs\u001b[0m\u001b[0;34m.\u001b[0m\u001b[0mvariant\u001b[0m\u001b[0;34m\u001b[0m\u001b[0m\n\u001b[0m",
      "\u001b[0;31mImportError\u001b[0m: No module named variant"
     ]
    }
   ],
   "source": [
    "import hgvs.variant"
   ]
  },
  {
   "cell_type": "code",
   "execution_count": 114,
   "metadata": {},
   "outputs": [
    {
     "ename": "AttributeError",
     "evalue": "'module' object has no attribute 'variant'",
     "output_type": "error",
     "traceback": [
      "\u001b[0;31m---------------------------------------------------------------------------\u001b[0m",
      "\u001b[0;31mAttributeError\u001b[0m                            Traceback (most recent call last)",
      "\u001b[0;32m<ipython-input-114-ad5533bfd614>\u001b[0m in \u001b[0;36m<module>\u001b[0;34m()\u001b[0m\n\u001b[0;32m----> 1\u001b[0;31m \u001b[0mvar\u001b[0m \u001b[0;34m=\u001b[0m \u001b[0mhgvs\u001b[0m\u001b[0;34m.\u001b[0m\u001b[0mvariant\u001b[0m\u001b[0;34m.\u001b[0m\u001b[0mSequenceVariant\u001b[0m\u001b[0;34m(\u001b[0m\u001b[0mac\u001b[0m\u001b[0;34m=\u001b[0m\u001b[0;34m'NM_01234.5'\u001b[0m\u001b[0;34m,\u001b[0m \u001b[0mtype\u001b[0m\u001b[0;34m=\u001b[0m\u001b[0;34m'c'\u001b[0m\u001b[0;34m,\u001b[0m \u001b[0mposedit\u001b[0m\u001b[0;34m=\u001b[0m\u001b[0mposedit\u001b[0m\u001b[0;34m)\u001b[0m\u001b[0;34m\u001b[0m\u001b[0m\n\u001b[0m\u001b[1;32m      2\u001b[0m \u001b[0mvar\u001b[0m\u001b[0;34m,\u001b[0m \u001b[0mstr\u001b[0m\u001b[0;34m(\u001b[0m\u001b[0mvar\u001b[0m\u001b[0;34m)\u001b[0m\u001b[0;34m\u001b[0m\u001b[0m\n",
      "\u001b[0;31mAttributeError\u001b[0m: 'module' object has no attribute 'variant'"
     ]
    }
   ],
   "source": [
    "var = hgvs.variant.SequenceVariant(ac='NM_01234.5', type='c', posedit=posedit)\n",
    "var, str(var)"
   ]
  },
  {
   "cell_type": "markdown",
   "metadata": {},
   "source": [
    "## Troubleshooting: \"ImportError: No module named variant\" & \"AttributeError: 'module' object has no attribute 'variant'\"\n",
    "\n",
    "### Resolution: \n",
    "This seems to be another typo.  Used help(*hgvs*) and executed the example that was displayed in the \"Description\" section.  Used help(*hgvs.sequencevariant*, *hgvs.sequencevariant.SequenceVariant*) and explored how to create a variant with the `posedit` variable as the variant.\n",
    "\n",
    "### Post-resolution Issues:\n",
    "As a user, I am confused why there isn't any clear instruction on how to build variants and would like clear documentation for a reproducible workflow.  "
   ]
  },
  {
   "cell_type": "code",
   "execution_count": 68,
   "metadata": {},
   "outputs": [],
   "source": [
    "import hgvs.dataproviders.uta\n",
    "import hgvs.parser\n",
    "import hgvs.variantmapper\n",
    "import hgvs.assemblymapper"
   ]
  },
  {
   "cell_type": "code",
   "execution_count": 123,
   "metadata": {},
   "outputs": [
    {
     "data": {
      "text/plain": [
       "(SequenceVariant(ac=NG_008376.4, type=g, posedit=None), 'NG_008376.4:g.?')"
      ]
     },
     "execution_count": 123,
     "metadata": {},
     "output_type": "execute_result"
    }
   ],
   "source": [
    "seq = hgvs.sequencevariant.SequenceVariant(ac='NG_008376.4', type='g', posedit=None)\n",
    "seq, str(seq)"
   ]
  },
  {
   "cell_type": "code",
   "execution_count": 126,
   "metadata": {},
   "outputs": [
    {
     "data": {
      "text/plain": [
       "(SequenceVariant(ac=NG_008376.4, type=g, posedit=200-6_*22A>T),\n",
       " 'NG_008376.4:g.200-6_*22A>T')"
      ]
     },
     "execution_count": 126,
     "metadata": {},
     "output_type": "execute_result"
    }
   ],
   "source": [
    "seq.posedit = posedit\n",
    "seq, str(seq)"
   ]
  },
  {
   "cell_type": "code",
   "execution_count": 107,
   "metadata": {},
   "outputs": [
    {
     "data": {
      "text/plain": [
       "((<ValidationLevel.VALID: 1>,\n",
       "  'Accession (NG_008376.4) is compatible with variant type g'),\n",
       " <hgvs.validator.Validator at 0x7f7b73250c50>)"
      ]
     },
     "execution_count": 107,
     "metadata": {},
     "output_type": "execute_result"
    }
   ],
   "source": [
    "val1 = hgvs.sequencevariant.validate_type_ac_pair(ac=seq.ac, type=seq.type)\n",
    "val2 = hgvs.validator.Validator(seq)\n",
    "val1, val2"
   ]
  },
  {
   "cell_type": "code",
   "execution_count": 85,
   "metadata": {},
   "outputs": [],
   "source": [
    "hdp = hgvs.dataproviders.uta.connect()\n",
    "am = hgvs.assemblymapper.AssemblyMapper(hdp,assembly_name=\"GRCh37\", alt_aln_method=\"splign\",replace_reference=True)"
   ]
  },
  {
   "cell_type": "code",
   "execution_count": 98,
   "metadata": {},
   "outputs": [
    {
     "data": {
      "text/plain": [
       "[]"
      ]
     },
     "execution_count": 98,
     "metadata": {},
     "output_type": "execute_result"
    }
   ],
   "source": [
    "transcripts = am.relevant_transcripts(seq)\n",
    "sorted(transcripts)"
   ]
  },
  {
   "cell_type": "code",
   "execution_count": 128,
   "metadata": {},
   "outputs": [
    {
     "data": {
      "text/plain": [
       "(SequenceVariant(ac=NG_011806.1, type=g, posedit=41721G>A),\n",
       " ['NM_000130.4'],\n",
       " (<ValidationLevel.VALID: 1>,\n",
       "  'Accession (NG_011806.1) is compatible with variant type g'))"
      ]
     },
     "execution_count": 128,
     "metadata": {},
     "output_type": "execute_result"
    }
   ],
   "source": [
    "seq2 = hp.parse_hgvs_variant(\"NG_011806.1:g.41721G>A\")\n",
    "seq2, am.relevant_transcripts(seq2), hgvs.sequencevariant.validate_type_ac_pair(ac=seq2.ac, type=seq2.type)"
   ]
  },
  {
   "cell_type": "code",
   "execution_count": 5,
   "metadata": {},
   "outputs": [
    {
     "name": "stdout",
     "output_type": "stream",
     "text": [
      "Help on class BaseOffsetPosition in module hgvs.location:\n",
      "\n",
      "class BaseOffsetPosition(__builtin__.object)\n",
      " |  Class for dealing with CDS coordinates in transcript variants.\n",
      " |  \n",
      " |  This class models CDS positions using a `base` coordinate, which is\n",
      " |  measured relative to a specified `datum` (CDS_START or CDS_END), and\n",
      " |  an `offset`, which is 0 for exonic positions and non-zero for intronic\n",
      " |  positions.  **Positions and offsets are 1-based**, with no 0, per the HGVS\n",
      " |  recommendations.  (If you\"re using this with UTA, be aware that UTA\n",
      " |  uses interbase coordinates.)\n",
      " |  \n",
      " |  +----------+------------+-------+---------+------------------------------------------+\n",
      " |  | hgvs     | datum      | base  | offset  | meaning                                  |\n",
      " |  +==========+============+=======+=========+==========================================+\n",
      " |  | r.55     | SEQ_START  |   55  |      0  | RNA position 55                          |\n",
      " |  +----------+------------+-------+---------+------------------------------------------+\n",
      " |  | c.55     | CDS_START  |   55  |      0  | CDS position 55                          |\n",
      " |  +----------+------------+-------+---------+------------------------------------------+\n",
      " |  | c.55     | CDS_START  |   55  |      0  | CDS position 55                          |\n",
      " |  +----------+------------+-------+---------+------------------------------------------+\n",
      " |  | c.55+1   | CDS_START  |   55  |      1  | intronic variant +1 from boundary        |\n",
      " |  +----------+------------+-------+---------+------------------------------------------+\n",
      " |  | c.-55    | CDS_START  |  -55  |      0  | 5' UTR variant, 55 nt upstream of ATG    |\n",
      " |  +----------+------------+-------+---------+------------------------------------------+\n",
      " |  | c.1      | CDS_START  |    1  |      0  | start codon                              |\n",
      " |  +----------+------------+-------+---------+------------------------------------------+\n",
      " |  | c.1234   | CDS_START  | 1234  |      0  | stop codon (assuming CDS length is 1233) |\n",
      " |  +----------+------------+-------+---------+------------------------------------------+\n",
      " |  | c.*1     | CDS_END    |    0  |      1  | STOP + 1                                 |\n",
      " |  +----------+------------+-------+---------+------------------------------------------+\n",
      " |  | c.*55    | CDS_END    |    0  |     55  | 3' UTR variant, 55 nt after STOP         |\n",
      " |  +----------+------------+-------+---------+------------------------------------------+\n",
      " |  \n",
      " |  Methods defined here:\n",
      " |  \n",
      " |  __eq__(lhs, rhs)\n",
      " |  \n",
      " |  __ge__(self, other)\n",
      " |      x.__ge__(y) <==> x>=y\n",
      " |  \n",
      " |  __getstate__ = slots_getstate(self)\n",
      " |      Automatically created by attrs.\n",
      " |  \n",
      " |  __gt__(self, other)\n",
      " |      x.__gt__(y) <==> x>y\n",
      " |  \n",
      " |  __init__(self, base=None, offset=0, datum=<Datum.SEQ_START: 1>, uncertain=False)\n",
      " |  \n",
      " |  __le__(self, other)\n",
      " |      x.__le__(y) <==> x<=y\n",
      " |  \n",
      " |  __lt__(lhs, rhs)\n",
      " |  \n",
      " |  __ne__(self, other)\n",
      " |      x.__ne__(y) <==> x!=y\n",
      " |  \n",
      " |  __repr__(self)\n",
      " |  \n",
      " |  __setstate__ = slots_setstate(self, state)\n",
      " |      Automatically created by attrs.\n",
      " |  \n",
      " |  __str__(self)\n",
      " |  \n",
      " |  __sub__(lhs, rhs)\n",
      " |  \n",
      " |  format(self, conf)\n",
      " |  \n",
      " |  validate(self)\n",
      " |  \n",
      " |  ----------------------------------------------------------------------\n",
      " |  Data descriptors defined here:\n",
      " |  \n",
      " |  __weakref__\n",
      " |      list of weak references to the object (if defined)\n",
      " |  \n",
      " |  base\n",
      " |  \n",
      " |  datum\n",
      " |  \n",
      " |  is_intronic\n",
      " |      returns True if the variant is intronic (if the offset is None or non-zero)\n",
      " |  \n",
      " |  is_uncertain\n",
      " |      return True if the position is marked uncertain or undefined\n",
      " |  \n",
      " |  offset\n",
      " |  \n",
      " |  uncertain\n",
      " |  \n",
      " |  ----------------------------------------------------------------------\n",
      " |  Data and other attributes defined here:\n",
      " |  \n",
      " |  __attrs_attrs__ = (Attribute(name='base', default=None, validator=...y...\n",
      "\n"
     ]
    }
   ],
   "source": [
    "help(hgvs.location.BaseOffsetPosition)"
   ]
  },
  {
   "cell_type": "code",
   "execution_count": 117,
   "metadata": {},
   "outputs": [
    {
     "name": "stdout",
     "output_type": "stream",
     "text": [
      "Help on module hgvs.sequencevariant in hgvs:\n",
      "\n",
      "NAME\n",
      "    hgvs.sequencevariant - represents simple sequence-based variants\n",
      "\n",
      "FILE\n",
      "    /home/aaron/biocommons/hgvs/sequencevariant.py\n",
      "\n",
      "CLASSES\n",
      "    __builtin__.object\n",
      "        SequenceVariant\n",
      "    \n",
      "    class SequenceVariant(__builtin__.object)\n",
      "     |  represents a basic HGVS variant.  The only requirement is that each\n",
      "     |  component can be stringified; for example, passing pos as either a string\n",
      "     |  or an hgvs.location.CDSInterval (for example) are both intended uses\n",
      "     |  \n",
      "     |  Methods defined here:\n",
      "     |  \n",
      "     |  __eq__(self, other)\n",
      "     |  \n",
      "     |  __ge__(self, other)\n",
      "     |      Automatically created by attrs.\n",
      "     |  \n",
      "     |  __getstate__ = slots_getstate(self)\n",
      "     |      Automatically created by attrs.\n",
      "     |  \n",
      "     |  __gt__(self, other)\n",
      "     |      Automatically created by attrs.\n",
      "     |  \n",
      "     |  __init__(self, ac, type, posedit)\n",
      "     |  \n",
      "     |  __le__(self, other)\n",
      "     |      Automatically created by attrs.\n",
      "     |  \n",
      "     |  __lt__(self, other)\n",
      "     |      Automatically created by attrs.\n",
      "     |  \n",
      "     |  __ne__(self, other)\n",
      "     |      Check equality and either forward a NotImplemented or return the result\n",
      "     |      negated.\n",
      "     |  \n",
      "     |  __repr__(self)\n",
      "     |  \n",
      "     |  __setstate__ = slots_setstate(self, state)\n",
      "     |      Automatically created by attrs.\n",
      "     |  \n",
      "     |  __str__ = format(self, conf=None)\n",
      "     |  \n",
      "     |  fill_ref(self, hdp)\n",
      "     |  \n",
      "     |  format(self, conf=None)\n",
      "     |      Formatting the stringification of sequence variants\n",
      "     |      \n",
      "     |      :param conf: a dict comprises formatting options. None is to use global settings.\n",
      "     |      \n",
      "     |      See :class:`hgvs.config`.\n",
      "     |  \n",
      "     |  validate(self)\n",
      "     |  \n",
      "     |  ----------------------------------------------------------------------\n",
      "     |  Data descriptors defined here:\n",
      "     |  \n",
      "     |  __weakref__\n",
      "     |      list of weak references to the object (if defined)\n",
      "     |  \n",
      "     |  ac\n",
      "     |  \n",
      "     |  posedit\n",
      "     |  \n",
      "     |  type\n",
      "     |  \n",
      "     |  ----------------------------------------------------------------------\n",
      "     |  Data and other attributes defined here:\n",
      "     |  \n",
      "     |  __attrs_attrs__ = (Attribute(name='ac', default=NOTHING, validator...y...\n",
      "     |  \n",
      "     |  __hash__ = None\n",
      "\n",
      "DATA\n",
      "    absolute_import = _Feature((2, 5, 0, 'alpha', 1), (3, 0, 0, 'alpha', 0...\n",
      "    division = _Feature((2, 2, 0, 'alpha', 2), (3, 0, 0, 'alpha', 0), 8192...\n",
      "    print_function = _Feature((2, 6, 0, 'alpha', 2), (3, 0, 0, 'alpha', 0)...\n",
      "    unicode_literals = _Feature((2, 6, 0, 'alpha', 2), (3, 0, 0, 'alpha', ...\n",
      "\n",
      "\n",
      "Help on class SequenceVariant in module hgvs.sequencevariant:\n",
      "\n",
      "class SequenceVariant(__builtin__.object)\n",
      " |  represents a basic HGVS variant.  The only requirement is that each\n",
      " |  component can be stringified; for example, passing pos as either a string\n",
      " |  or an hgvs.location.CDSInterval (for example) are both intended uses\n",
      " |  \n",
      " |  Methods defined here:\n",
      " |  \n",
      " |  __eq__(self, other)\n",
      " |  \n",
      " |  __ge__(self, other)\n",
      " |      Automatically created by attrs.\n",
      " |  \n",
      " |  __getstate__ = slots_getstate(self)\n",
      " |      Automatically created by attrs.\n",
      " |  \n",
      " |  __gt__(self, other)\n",
      " |      Automatically created by attrs.\n",
      " |  \n",
      " |  __init__(self, ac, type, posedit)\n",
      " |  \n",
      " |  __le__(self, other)\n",
      " |      Automatically created by attrs.\n",
      " |  \n",
      " |  __lt__(self, other)\n",
      " |      Automatically created by attrs.\n",
      " |  \n",
      " |  __ne__(self, other)\n",
      " |      Check equality and either forward a NotImplemented or return the result\n",
      " |      negated.\n",
      " |  \n",
      " |  __repr__(self)\n",
      " |  \n",
      " |  __setstate__ = slots_setstate(self, state)\n",
      " |      Automatically created by attrs.\n",
      " |  \n",
      " |  __str__ = format(self, conf=None)\n",
      " |  \n",
      " |  fill_ref(self, hdp)\n",
      " |  \n",
      " |  format(self, conf=None)\n",
      " |      Formatting the stringification of sequence variants\n",
      " |      \n",
      " |      :param conf: a dict comprises formatting options. None is to use global settings.\n",
      " |      \n",
      " |      See :class:`hgvs.config`.\n",
      " |  \n",
      " |  validate(self)\n",
      " |  \n",
      " |  ----------------------------------------------------------------------\n",
      " |  Data descriptors defined here:\n",
      " |  \n",
      " |  __weakref__\n",
      " |      list of weak references to the object (if defined)\n",
      " |  \n",
      " |  ac\n",
      " |  \n",
      " |  posedit\n",
      " |  \n",
      " |  type\n",
      " |  \n",
      " |  ----------------------------------------------------------------------\n",
      " |  Data and other attributes defined here:\n",
      " |  \n",
      " |  __attrs_attrs__ = (Attribute(name='ac', default=NOTHING, validator...y...\n",
      " |  \n",
      " |  __hash__ = None\n",
      "\n"
     ]
    },
    {
     "data": {
      "text/plain": [
       "(None, None)"
      ]
     },
     "execution_count": 117,
     "metadata": {},
     "output_type": "execute_result"
    }
   ],
   "source": [
    "help(hgvs.sequencevariant), help(hgvs.sequencevariant.SequenceVariant)"
   ]
  },
  {
   "cell_type": "code",
   "execution_count": 16,
   "metadata": {},
   "outputs": [
    {
     "name": "stdout",
     "output_type": "stream",
     "text": [
      "Help on package hgvs:\n",
      "\n",
      "NAME\n",
      "    hgvs\n",
      "\n",
      "FILE\n",
      "    /home/aaron/biocommons/hgvs/__init__.py\n",
      "\n",
      "DESCRIPTION\n",
      "    hgvs is a package to parse, format, and manipulate biological sequence\n",
      "    variants.  See https://github.com/biocommons/hgvs/ for details.\n",
      "    \n",
      "    Example use:\n",
      "    \n",
      "    >>> import hgvs.dataproviders.uta\n",
      "    >>> import hgvs.parser\n",
      "    >>> import hgvs.variantmapper\n",
      "    \n",
      "    # start with these variants as strings\n",
      "    >>> hgvs_g, hgvs_c = \"NC_000007.13:g.36561662C>T\", \"NM_001637.3:c.1582G>A\"\n",
      "    \n",
      "    # parse the genomic variant into a Python structure\n",
      "    >>> hp = hgvs.parser.Parser()\n",
      "    >>> var_g = hp.parse_hgvs_variant(hgvs_g)\n",
      "    >>> var_g\n",
      "    SequenceVariant(ac=NC_000007.13, type=g, posedit=36561662C>T)\n",
      "    \n",
      "    # SequenceVariants are composed of structured objects, e.g.,\n",
      "    >>> var_g.posedit.pos.start\n",
      "    SimplePosition(base=36561662, uncertain=False)\n",
      "    \n",
      "    # format by stringification \n",
      "    >>> str(var_g)\n",
      "    'NC_000007.13:g.36561662C>T'\n",
      "    \n",
      "    # initialize the mapper for GRCh37 with splign-based alignments\n",
      "    >>> hdp = hgvs.dataproviders.uta.connect()\n",
      "    >>> am = hgvs.assemblymapper.AssemblyMapper(hdp,\n",
      "    ...          assembly_name=\"GRCh37\", alt_aln_method=\"splign\",\n",
      "    ...          replace_reference=True)\n",
      "    \n",
      "    # identify transcripts that overlap this genomic variant\n",
      "    >>> transcripts = am.relevant_transcripts(var_g)\n",
      "    >>> sorted(transcripts)\n",
      "    ['NM_001177506.1', 'NM_001177507.1', 'NM_001637.3']\n",
      "    \n",
      "    # map genomic variant to one of these transcripts\n",
      "    >>> var_c = am.g_to_c(var_g, \"NM_001637.3\")\n",
      "    >>> var_c\n",
      "    SequenceVariant(ac=NM_001637.3, type=c, posedit=1582G>A)\n",
      "    >>> str(var_c)\n",
      "    'NM_001637.3:c.1582G>A'\n",
      "    \n",
      "    # CDS coordinates use BaseOffsetPosition to support intronic offsets\n",
      "    >>> var_c.posedit.pos.start\n",
      "    BaseOffsetPosition(base=1582, offset=0, datum=Datum.CDS_START, uncertain=False)\n",
      "\n",
      "PACKAGE CONTENTS\n",
      "    alignmentmapper\n",
      "    assemblymapper\n",
      "    config\n",
      "    dataproviders (package)\n",
      "    decorators (package)\n",
      "    easy\n",
      "    edit\n",
      "    enums\n",
      "    exceptions\n",
      "    hgvsposition\n",
      "    intervalmapper\n",
      "    location\n",
      "    normalizer\n",
      "    parser\n",
      "    posedit\n",
      "    projector\n",
      "    sequencevariant\n",
      "    shell\n",
      "    transcriptmapper\n",
      "    utils (package)\n",
      "    validator\n",
      "    variantmapper\n",
      "\n",
      "DATA\n",
      "    __version__ = '1.1.4.dev77+g8f54289'\n",
      "    absolute_import = _Feature((2, 5, 0, 'alpha', 1), (3, 0, 0, 'alpha', 0...\n",
      "    division = _Feature((2, 2, 0, 'alpha', 2), (3, 0, 0, 'alpha', 0), 8192...\n",
      "    global_config = <hgvs.config.Config object>\n",
      "    logger = <logging.Logger object>\n",
      "    print_function = _Feature((2, 6, 0, 'alpha', 2), (3, 0, 0, 'alpha', 0)...\n",
      "    unicode_literals = _Feature((2, 6, 0, 'alpha', 2), (3, 0, 0, 'alpha', ...\n",
      "\n",
      "VERSION\n",
      "    1.1.4.dev77+g8f54289\n",
      "\n",
      "\n"
     ]
    }
   ],
   "source": [
    "help(hgvs)"
   ]
  },
  {
   "cell_type": "code",
   "execution_count": 64,
   "metadata": {},
   "outputs": [
    {
     "name": "stdout",
     "output_type": "stream",
     "text": [
      "Help on function validate_type_ac_pair in module hgvs.utils.validation:\n",
      "\n",
      "validate_type_ac_pair(type, ac)\n",
      "    validate that accession is correct for variant type AND that\n",
      "    accession is fully specified.\n",
      "\n",
      "Help on class Validator in module hgvs.validator:\n",
      "\n",
      "class Validator(__builtin__.object)\n",
      " |  invoke intrinsic and extrinsic validation\n",
      " |  \n",
      " |  Methods defined here:\n",
      " |  \n",
      " |  __init__(self, hdp, strict=True)\n",
      " |  \n",
      " |  validate(self, var, strict=None)\n",
      " |  \n",
      " |  ----------------------------------------------------------------------\n",
      " |  Data descriptors defined here:\n",
      " |  \n",
      " |  __dict__\n",
      " |      dictionary for instance variables (if defined)\n",
      " |  \n",
      " |  __weakref__\n",
      " |      list of weak references to the object (if defined)\n",
      "\n"
     ]
    },
    {
     "data": {
      "text/plain": [
       "(None, None)"
      ]
     },
     "execution_count": 64,
     "metadata": {},
     "output_type": "execute_result"
    }
   ],
   "source": [
    "help(hgvs.sequencevariant.validate_type_ac_pair),help(hgvs.validator.Validator)"
   ]
  },
  {
   "cell_type": "code",
   "execution_count": 92,
   "metadata": {},
   "outputs": [
    {
     "name": "stdout",
     "output_type": "stream",
     "text": [
      "Help on AssemblyMapper in module hgvs.assemblymapper object:\n",
      "\n",
      "class AssemblyMapper(hgvs.variantmapper.VariantMapper)\n",
      " |  Provides simplified variant mapping for a single assembly and\n",
      " |  transcript-reference alignment method.\n",
      " |  \n",
      " |  AssemblyMapper is instantiated with an assembly name and\n",
      " |  alt_aln_method. These enable the following conveniences over\n",
      " |  VariantMapper:\n",
      " |  \n",
      " |  * The assembly and alignment method are used to\n",
      " |    automatically select an appropriate chromosomal reference\n",
      " |    sequence when mapping from a transcript to a genome (i.e.,\n",
      " |    c_to_g(...) and n_to_g(...)).\n",
      " |  \n",
      " |  * A new method, relevant_trancripts(g_variant), returns a list of\n",
      " |    transcript accessions available for the specified variant. These\n",
      " |    accessions are candidates mapping from genomic to trancript\n",
      " |    coordinates (i.e., g_to_c(...) and g_to_n(...)).\n",
      " |  \n",
      " |  Note: AssemblyMapper supports only chromosomal references (e.g.,\n",
      " |  NC_000006.11). It does not support contigs or other genomic\n",
      " |  sequences (e.g., NT_167249.1).\n",
      " |  \n",
      " |  Method resolution order:\n",
      " |      AssemblyMapper\n",
      " |      hgvs.variantmapper.VariantMapper\n",
      " |      __builtin__.object\n",
      " |  \n",
      " |  Methods defined here:\n",
      " |  \n",
      " |  __init__(self, hdp, assembly_name=u'GRCh38', alt_aln_method=u'splign', normalize=True, prevalidation_level=u'EXTRINSIC', in_par_assume=u'X', replace_reference=True, *args, **kwargs)\n",
      " |      :param object hdp: instance of hgvs.dataprovider subclass\n",
      " |      :param bool replace_reference: replace reference (entails additional network access)\n",
      " |      \n",
      " |      :param str assembly_name: name of assembly (\"GRCh38.p5\")\n",
      " |      :param str alt_aln_method: genome-transcript alignment method (\"splign\", \"blat\", \"genewise\")\n",
      " |      :param bool normalize: normalize variants\n",
      " |      :param str prevalidation_level: None or Intrinsic or Extrinsic validation before mapping\n",
      " |      :param str in_par_assume: during x_to_g, assume this chromosome name if alignment is ambiguous\n",
      " |      \n",
      " |      :raises HGVSError subclasses: for a variety of mapping and data lookup failures\n",
      " |  \n",
      " |  __repr__(self)\n",
      " |  \n",
      " |  c_to_g(self, var_c)\n",
      " |  \n",
      " |  c_to_n(self, var_c)\n",
      " |  \n",
      " |  c_to_p(self, var_c)\n",
      " |  \n",
      " |  g_to_c(self, var_g, tx_ac)\n",
      " |  \n",
      " |  g_to_n(self, var_g, tx_ac)\n",
      " |  \n",
      " |  g_to_t(self, var_g, tx_ac)\n",
      " |  \n",
      " |  n_to_c(self, var_n)\n",
      " |  \n",
      " |  n_to_g(self, var_n)\n",
      " |  \n",
      " |  relevant_transcripts(self, var_g)\n",
      " |      return list of transcripts accessions (strings) for given variant,\n",
      " |      selected by genomic overlap\n",
      " |  \n",
      " |  t_to_g(self, var_t)\n",
      " |  \n",
      " |  t_to_p(self, var_t)\n",
      " |      Return a protein variant, or \"non-coding\" for non-coding variant types\n",
      " |      \n",
      " |      CAUTION: Unlike other x_to_y methods that always return\n",
      " |      SequenceVariant instances, this method returns a string when\n",
      " |      the variant type is ``n``.  This is intended as a convenience,\n",
      " |      particularly when looping over ``relevant_transcripts``,\n",
      " |      projecting with ``g_to_t``, then desiring a protein\n",
      " |      representation for coding transcripts.\n",
      " |  \n",
      " |  ----------------------------------------------------------------------\n",
      " |  Data descriptors inherited from hgvs.variantmapper.VariantMapper:\n",
      " |  \n",
      " |  __dict__\n",
      " |      dictionary for instance variables (if defined)\n",
      " |  \n",
      " |  __weakref__\n",
      " |      list of weak references to the object (if defined)\n",
      "\n"
     ]
    }
   ],
   "source": [
    "help(am)"
   ]
  }
 ],
 "metadata": {
  "kernelspec": {
   "display_name": "Environment (conda_hgvs)",
   "language": "python",
   "name": "conda_hgvs"
  },
  "language_info": {
   "codemirror_mode": {
    "name": "ipython",
    "version": 2
   },
   "file_extension": ".py",
   "mimetype": "text/x-python",
   "name": "python",
   "nbconvert_exporter": "python",
   "pygments_lexer": "ipython2",
   "version": "2.7.15"
  }
 },
 "nbformat": 4,
 "nbformat_minor": 2
}
